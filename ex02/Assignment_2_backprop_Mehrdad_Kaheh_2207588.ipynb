{
  "cells": [
    {
      "cell_type": "markdown",
      "metadata": {
        "id": "fe3XPSpN6WkP"
      },
      "source": [
        "# 521153S:3, Deep Learning assignment 2: Loss Function, Optimization, Neural Networks, Deep Neural Networks"
      ]
    },
    {
      "cell_type": "markdown",
      "metadata": {
        "id": "f-z9xM-66WkT"
      },
      "source": [
        "## Outline \n",
        "#### In this assignment, you will learn:\n",
        "* **Neural Network, Deep Neural Network, Loss Function and Optimization**.\n",
        "* Building a one layer NN using numpy to understand the backpropagation.\n",
        "* Gradient check using finite-difference approximation.\n",
        "* Stochatic Gradient Descent (SGD).\n",
        "* Simple hype-parameters tuning methods to improve your NN performance.\n",
        "\n",
        "#### Grading (<span style=\"color:green\">15 points</span>)\n",
        "In this assignment, we are going to learn about **Neural Network, Deep Neural Network, Loss Function and Optimization**. They are very important knowledge you need to know in deep learning.\n",
        "\n",
        "Hints: First of all , make sure you implement the sigmoid, softmax and cross-entropy loss **correctly**. <br>\n",
        "Then, **implement first the weight decay off (is_weight_decay = False) then move on with (is_weight_decay = True)**\n",
        "* **Part 1.** Import libraries, loading and preprocessing the training and testing data.\n",
        "* **Part 2.** Optimize the neural network according to the loss function. (<span style=\"color:green\">12 points</span>)\n",
        "  * 2.1. Construct model in **Fig. 2** (<span style=\"color:green\">4 points</span>) <br>\n",
        "       * 2.1.1 Declare W1 and W2 (<span style=\"color:green\">1.0 point</span>) <br>\n",
        "       * 2.1.2 Implement sigmoid (<span style=\"color:green\">1.0 point</span>) <br>\n",
        "       * 2.1.3 Implement softmax (<span style=\"color:green\">1.0 point</span>) <br>\n",
        "       * 2.1.4 Implement the cross-entropy loss (<span style=\"color:green\">1.0 point</span>) <br>\n",
        "  * 2.2. Implement the forward-pass (<span style=\"color:green\">2.0 point</span>) <br>\n",
        "       * 2.2.1 Foward-pass in training (<span style=\"color:green\">1.0 point</span>) <br>\n",
        "       * 2.2.2 Call cross entropy loss in training (<span style=\"color:green\">0.5 point</span>) <br>\n",
        "       * 2.2.3 Forward-pass in testing (<span style=\"color:green\">0.5 point</span>) <br>\n",
        "  * 2.3. Implement SGD (<span style=\"color:green\">2 point</span>) <br>\n",
        "       * 2.3.1 Velocity (<span style=\"color:green\">1.0 point</span>) <br>\n",
        "       * 2.3.2 Update weights (<span style=\"color:green\">1.0 point</span>) <br>\n",
        "  * 2.4. Derivatives <br>\n",
        "       * Derive equations <br> \n",
        "  * 2.5. Implement the derivatives (<span style=\"color:green\">4.0 points</span>) <br>\n",
        "       * 2.5.1 Implement equation 8 (<span style=\"color:green\">1.0 point</span>) <br>\n",
        "       * 2.5.2 Implement equation 6 (<span style=\"color:green\">0.5 point</span>) <br>\n",
        "       * 2.5.3 Implement equation 10 (<span style=\"color:green\">1.0 point</span>) <br>\n",
        "       * 2.5.4 Implement equation 10+11 (<span style=\"color:green\">1.0 point</span>) <br>\n",
        "       * 2.5.5 Implement equation 7 (<span style=\"color:green\">0.5 point</span>) <br>\n",
        "* **Part 3.** Gradient check using finite-difference approximation. (<span style=\"color:green\">0.5 points</span>) (YOU **DON'T NEED** TO WRITE THE CODE FOR THIS) <br>\n",
        "  * Question: why don't we use FDA to calculate the gradient to update our model? (<span style=\"color:green\">0.5 point</span>) <br>\n",
        "* **Part 4.** Regularization and NN simple tunning. (<span style=\"color:green\">2.5 points</span>) <br>\n",
        "  * 4.1. Applying weight decay. (<span style=\"color:green\">1.5 point</span>) <br>\n",
        "       * There are 3 spots you need to fill, (<span style=\"color:green\">0.5 point</span>) each spot.\n",
        "  * 4.2. Change the number of neurons in the hidden layer and report the performance (<span style=\"color:green\">1 point</span>) <br>\n",
        "\n",
        "#### Environment\n",
        "Python 3, Numpy, matplotlib, sklearn\n",
        "\n",
        "#### Dataset\n",
        "* [**Fashion-MNIST**](https://github.com/zalandoresearch/fashion-mnist)\n",
        "is a dataset of Zalando's article images—consisting of a training set of 60,000 examples and a test set of 10,000 examples. Each example is a 28x28 grayscale image, associated with a label from 10 classes. We intend Fashion-MNIST to serve as a direct drop-in replacement for the original MNIST dataset for benchmarking machine learning algorithms. It shares the same image size and structure of training and testing splits. Using the Fashion-MNIST give you more room to wiggle your experiments.\n",
        "\n",
        "#### Hints\n",
        "* To find the place where you have to insert your solution, hit Crtl + F and search for **TODO:** . You are NOT suppose to modify the codes from other parts.\n",
        "* **Be careful with the shape** of the weights, gradient, .. of your tensor in your implementation. Double check and make sure the shapes are fit for computation, especially matrix multiplication."
      ]
    },
    {
      "cell_type": "markdown",
      "metadata": {
        "id": "to5QRNq86WkX"
      },
      "source": [
        "## Part 1. Import libraries, loading and preprocessing the training and testing data\n",
        "**You don't need to change the code from this part.**"
      ]
    },
    {
      "cell_type": "code",
      "execution_count": 3,
      "metadata": {
        "id": "F2RkU-OR6WkY"
      },
      "outputs": [],
      "source": [
        "# You will mainly use numpy to construct your NN\n",
        "import numpy as np\n",
        "import matplotlib, time, copy, os, requests, zipfile, sys, shutil\n",
        "# Matplotlib to plot the image\n",
        "import matplotlib.pyplot as plt\n",
        "# Off-the-shelf evaluation functions provided by sklearn\n",
        "from sklearn.metrics import confusion_matrix, accuracy_score\n",
        "# Matplotlib predefined 'magic function'. It will include your graphs in your notebook, next to the code\n",
        "%matplotlib inline"
      ]
    },
    {
      "cell_type": "markdown",
      "metadata": {
        "id": "tMYe_gsz6Wka"
      },
      "source": [
        "### Functions use to download the dataset from google drive\n",
        "The code snipet was taken from [this thread](https://stackoverflow.com/questions/38511444/python-download-files-from-google-drive-using-url)."
      ]
    },
    {
      "cell_type": "code",
      "execution_count": 5,
      "metadata": {
        "id": "IUHX4y7z6Wka"
      },
      "outputs": [],
      "source": [
        "def download_file_from_google_drive(id, destination):\n",
        "    URL = \"https://docs.google.com/uc?export=download\"\n",
        "\n",
        "    session = requests.Session()\n",
        "\n",
        "    response = session.get(URL, params = { 'id' : id }, stream = True)\n",
        "    token = get_confirm_token(response)\n",
        "\n",
        "    if token:\n",
        "        params = { 'id' : id, 'confirm' : token }\n",
        "        response = session.get(URL, params = params, stream = True)\n",
        "\n",
        "    save_response_content(response, destination)    \n",
        "\n",
        "def get_confirm_token(response):\n",
        "    for key, value in response.cookies.items():\n",
        "        if key.startswith('download_warning'):\n",
        "            return value\n",
        "\n",
        "    return None\n",
        "\n",
        "def save_response_content(response, destination):\n",
        "    CHUNK_SIZE = 32768\n",
        "\n",
        "    with open(destination, \"wb\") as f:\n",
        "        for chunk in response.iter_content(CHUNK_SIZE):\n",
        "            if chunk: # filter out keep-alive new chunks\n",
        "                f.write(chunk)\n"
      ]
    },
    {
      "cell_type": "markdown",
      "metadata": {
        "id": "FPNXsztz6Wkb"
      },
      "source": [
        "### Functions use to pre-process your training/testing data"
      ]
    },
    {
      "cell_type": "code",
      "execution_count": 6,
      "metadata": {
        "id": "OCFUSa--6Wkb"
      },
      "outputs": [],
      "source": [
        "def reshape_train_data(X):\n",
        "    ''' Input training data has shape (60000, 28, 28)\n",
        "        Input testing data has shape (10000, 28, 28)\n",
        "        where: \n",
        "        60000 is the numbers of input training samples\n",
        "        10000 is the numbers of input testing samples\n",
        "        similar to MNIST, resolution of each sample is 28 x 28\n",
        "    '''\n",
        "    samples, H, W = X.shape\n",
        "    # Reshape input volume to (sample, 784), this mean, your NN input layer will have 784 placeholders\n",
        "    # we scale the RGB values by divide them by 255, this will help improve the training performance\n",
        "    return X.reshape(samples, H * W).T / 255\n",
        "\n",
        "def one_hot_vector(x, num_classes):\n",
        "    # By now, I think you already heard about this so many times\n",
        "    return np.eye(num_classes)[x].T"
      ]
    },
    {
      "cell_type": "markdown",
      "metadata": {
        "id": "IlCBP7Q46Wkc"
      },
      "source": [
        "### We took care of download the data for you.\n",
        "The fashion-MNIST data will be download and store in your **work_dir/data/fashion_mnist_npy**"
      ]
    },
    {
      "cell_type": "code",
      "execution_count": 7,
      "metadata": {
        "colab": {
          "base_uri": "https://localhost:8080/"
        },
        "id": "HyJRsMtG6Wkc",
        "outputId": "9d568ab3-ed99-47f9-ff60-f2afc45cf74f"
      },
      "outputs": [
        {
          "name": "stdout",
          "output_type": "stream",
          "text": [
            "Data was already downloaded and extracted!\n"
          ]
        }
      ],
      "source": [
        "PATH = './data'\n",
        "if not os.path.exists(PATH):\n",
        "    os.makedirs(PATH)\n",
        "    \n",
        "    file_id = '1DQ2Nf2rY467kyZKOf_CG3Kib5FLv0xQu'\n",
        "    destination = os.path.join(PATH, 'fashion_mnist_npy.zip')\n",
        "    download_file_from_google_drive(file_id, destination)\n",
        "    \n",
        "    with zipfile.ZipFile(destination, 'r') as zip_ref:\n",
        "        zip_ref.extractall(PATH)\n",
        "        \n",
        "    print(\"Data downloaded and extracted!\")\n",
        "    \n",
        "    os.remove(destination)\n",
        "    \n",
        "else:\n",
        "    print(\"Data was already downloaded and extracted!\")\n",
        "\n",
        "PATH = os.path.join(PATH, 'fashion_mnist_npy')\n",
        "\n",
        "# The actual meaning of the label of your classes.\n",
        "# E.g. if a output one-hot vector is [0. 0. 0. 1. 0. 0. 0. 0. 0. 0.], it used to prepresent a Dress\n",
        "label_names = ['T-shirt/top', 'Trouser', 'Pullover', 'Dress', 'Coat', \n",
        "               'Sandal', 'Shirt', 'Sneaker', 'Bag', 'Ankle boot']"
      ]
    },
    {
      "cell_type": "markdown",
      "metadata": {
        "id": "EAZQVbW_6Wke"
      },
      "source": [
        "### Finally, we load and preprocess the data"
      ]
    },
    {
      "cell_type": "code",
      "execution_count": 8,
      "metadata": {
        "colab": {
          "base_uri": "https://localhost:8080/",
          "height": 461
        },
        "id": "-l5iqUlT6Wke",
        "outputId": "e7e6d13a-d7f2-4c61-ed59-138a83d30d3c",
        "scrolled": false
      },
      "outputs": [
        {
          "data": {
            "image/png": "[encoded data removed]",
            "text/plain": [
              "<Figure size 1600x800 with 5 Axes>"
            ]
          },
          "metadata": {},
          "output_type": "display_data"
        },
        {
          "data": {
            "image/png": "[encoded data removed]",
            "text/plain": [
              "<Figure size 1600x800 with 5 Axes>"
            ]
          },
          "metadata": {},
          "output_type": "display_data"
        }
      ],
      "source": [
        "# Load the training input\n",
        "X_train = np.load(os.path.join(PATH, 'train_data.npy'))\n",
        "# Load the training labels\n",
        "X_test = np.load(os.path.join(PATH, 'test_data.npy'))\n",
        "# Load the testing input\n",
        "Y_train = np.load(os.path.join(PATH, 'train_labels.npy'))\n",
        "# Load the testing labels\n",
        "Y_test = np.load(os.path.join(PATH, 'test_labels.npy'))\n",
        "\n",
        "# Get the number of classes\n",
        "num_classes = len(label_names)\n",
        "# Get the number of training samples and their resolution for reshape\n",
        "num_trains, HEIGHT, WIDTH = X_train.shape\n",
        "\n",
        "# Reshape the training and testing inputs\n",
        "X_train, X_test = reshape_train_data(X_train), reshape_train_data(X_test)\n",
        "\n",
        "# Create one-hot vector for the training and testing labels\n",
        "Y_train, Y_test = one_hot_vector(Y_train, num_classes), one_hot_vector(Y_test, num_classes)\n",
        "\n",
        "\n",
        "# This part use to randomly load some of the training and testing image and the one-hot vectors for checking\n",
        "fig_train, ax_train = plt.subplots(figsize=(16, 8), nrows=1, ncols=5)\n",
        "fig_train.suptitle(\"Random image from the TRAINING set\", y=0.73, fontsize=16, fontweight='bold')\n",
        "\n",
        "fig_test, ax_test = plt.subplots(figsize=(16, 8), nrows=1, ncols=5)\n",
        "fig_test.suptitle(\"Random image from the TESTING set\", y=0.73, fontsize=16, fontweight='bold')\n",
        "\n",
        "for idx in range(5):\n",
        "    i, j = np.random.randint(num_trains), np.random.randint(X_test.shape[0])\n",
        "    \n",
        "    ax_train[idx].imshow(X_train[:,i].reshape(HEIGHT, WIDTH), cmap = matplotlib.cm.binary)\n",
        "    ax_train[idx].set_title(label_names[np.argmax(Y_train[:,i])] + \"\\n\" + str(Y_train[:,i]))\n",
        "    ax_train[idx].axis('off')\n",
        "    \n",
        "    ax_test[idx].imshow(X_test[:,j].reshape(HEIGHT, WIDTH), cmap = matplotlib.cm.binary)\n",
        "    ax_test[idx].set_title(label_names[np.argmax(Y_test[:,j])] + \"\\n\" + str(Y_test[:,j]))\n",
        "    ax_test[idx].axis('off')\n"
      ]
    },
    {
      "cell_type": "markdown",
      "metadata": {
        "id": "hE26jFXe6Wkf"
      },
      "source": [
        "## Part 2. Loss function and optimization (<span style=\"color:green\">10 points</span>)\n",
        "#### The fun part start from here.\n",
        "*Definition:* loss function is a function that maps an event or values of one or more variables onto a real number intuitively representing some \"cost\" associated with the event. Loss function (sometime called cost function) is used to calculate the gradient by applying the chain rule, so that we can update the weights (and bias) of our neural network using optimizer such as gradient descent. <br>\n",
        "It could be interpreted as using loss function to calculate the network’s layers error, in which we calculate the error of the current layer, then pass the weighted error back to the previous layer, and recursively doing this until we travel back to the first hidden layer. At each layer, we update the weights using the derivative of the cost for each weight.\n",
        "\n",
        "Let illustrate this concept using a simple toy example.\n",
        "\n",
        "![toy.png](toy.png)\n",
        "<center> <strong> <font size=\"3\" color=\"blue\"> Figure 1. Toy example of backpropagation </font> </strong> </center>\n",
        "\n",
        "In **Fig. 1** we have a loss function $L$:\n",
        "\\begin{align}\n",
        "L = c \\times d\n",
        "\\end{align}\n",
        "\n",
        "where <br>\n",
        "\n",
        "\\begin{align}\n",
        "c = a + b -5\n",
        "\\end{align}\n",
        "\n",
        "and, <br>\n",
        "\n",
        "\\begin{align}\n",
        "d = b^2 + b -1\n",
        "\\end{align}\n",
        "\n",
        "As illustrated in **Fig. 1**, the equations in the edge show the partial derivation of some functions with respect to their direct variables. For example, $\\frac{\\partial L}{\\partial c}$ is the partial derivative of $L$ with respect to $c$. <br>\n",
        "However, we are actually interested in calculate the derivative of $L$ with respect to $a$ and $b$, which don't directly connected with each other. So, how can we do this? As mentioned earlier, we can do this using the chain-rule so that we can calculate $\\frac{\\partial L}{\\partial a}$ and $\\frac{\\partial L}{\\partial b}$ as:\n",
        "\n",
        "\\begin{align}\n",
        "\\frac{\\partial L}{\\partial a} = \\frac{\\partial L}{\\partial c} \\cdot \\frac{\\partial c}{\\partial a}\n",
        "\\end{align}\n",
        "\n",
        "and, <br>\n",
        "\n",
        "\\begin{align}\n",
        "\\frac{\\partial L}{\\partial b} = \\frac{\\partial L}{\\partial c} \\cdot \\frac{\\partial c}{\\partial b} + \\frac{\\partial L}{\\partial d} \\cdot \\frac{\\partial d}{\\partial b}\n",
        "\\end{align}\n",
        "\n",
        "More importantly, **we can see that $a$ affect $L$ through $c$, and so on**. This concept hold no matter how many hidden layers you have or how complicated your loss will be as long as you use backpropagation to calculate the derivative to update your weights."
      ]
    },
    {
      "cell_type": "markdown",
      "metadata": {
        "id": "Et5hx3Yu6Wkf"
      },
      "source": [
        "Now, let's get your hand dirty. Let's take a look at the model in **Fig. 2** below. This is the model we are gonna use in this assignment.\n",
        "\n",
        "![](NN.png)\n",
        "<center> <strong> <font size=\"4\" color=\"blue\"> Figure 2. Structure of our neural network </font> </strong> </center>\n"
      ]
    },
    {
      "cell_type": "markdown",
      "metadata": {
        "id": "yBLnsw5Z6Wkg"
      },
      "source": [
        "### Construct model base on **Fig. 2** above (<span style=\"color:green\">4 points</span>)\n",
        "As shown in the **Fig. 2**, our neural network contains two hidden layer (we use 7 and 3 neurons as the  first hidden layer and the second hidden layer default setting respectively) and an output layer. To further simply things, we will not include biases in our model. Be aware that, while the number of neuron in the hidden layer can be abitrary, there must be 10 neurons in the output layer because we want our model to classify images from 10 classes. Based on the **Fig. 2**, you have to construct your network. "
      ]
    },
    {
      "cell_type": "code",
      "execution_count": 9,
      "metadata": {
        "id": "fDNSAMnD6Wkg"
      },
      "outputs": [],
      "source": [
        "# Numbers of input units\n",
        "num_input = X_train.shape[0]\n",
        "# Number of neural in your hidden layer\n",
        "# TODO: modify the number of neurons in the hidden layer\n",
        "num_hidden_1 = 21\n",
        "num_hidden_2 = 9\n",
        "\n",
        "# Construct your neural network from Fig. 2 (1.0 point)\n",
        "# TODO: Random initialize the hidden_1 layer weights (w/o bias)\n",
        "# Hints: use np.random.randn()\n",
        "W1 = np.random.randn(num_hidden_1, num_input)\n",
        "# TODO: Random initialize the hidden_2 layer weights (w/o bias)\n",
        "# Hints: use np.random.randn()\n",
        "W2 = np.random.randn(num_hidden_2, num_hidden_1)\n",
        "\n",
        "# TODO: Random initialize the output layer weights (w/o bias)\n",
        "# Hints: use np.random.randn()\n",
        "W3 = np.random.randn(10, num_hidden_2)\n",
        "\n",
        "def sigmoid(X):\n",
        "    # TODO: implement Eq. 2 (1.0 point)\n",
        "    # Hints: use np.exp()\n",
        "    return 1/(1+np.exp(-1*X))\n",
        "\n",
        "def softmax(X):\n",
        "    # TODO: implement Eq. 4 (1.0 point)\n",
        "    # Hints: use np.exp() and np.sum(, axis=0) <- beware of the axis\n",
        "    return np.exp(X)/np.sum(np.exp(X), axis=0)\n",
        "\n",
        "def cross_entropy_loss(Y, Y_pred):\n",
        "    # TODO: implement Eq. 5 (1.0 point)\n",
        "    # Hints: use np.sum(), np.multiply() and np.log()\n",
        "    # At the end, we need to divide by the number of of sample in the training batch e.g. M = Y.shape[1]\n",
        "    return (-1/Y.shape[1])*(np.sum(np.multiply(Y, np.log(Y_pred))))\n",
        "    "
      ]
    },
    {
      "cell_type": "markdown",
      "metadata": {
        "id": "nEtfXEC16Wkg"
      },
      "source": [
        "According to the model in **Fig. 2**, our **forward-propagation** is going to start with the calculation of the output volume $A_1$ for the first hidden layer:\n",
        "\n",
        "\\begin{align}\n",
        "A_1 = \\sigma(Z_1) = \\sigma(W_1 X ) \\tag{1}\n",
        "\\end{align}\n",
        "where $W_1$ is the weights of the first hidden layer, $X$ is the input, and $\\sigma$ is the sigmoid activation where: <br>\n",
        "\\begin{align}\n",
        "\\sigma(x) = \\frac{1}{1 + e^{-x}} \\tag{2}\n",
        "\\end{align}\n",
        "\n",
        "Then, we calculate the hidden volume of the second hidden layer $A_2$ by: <br>\n",
        "\\begin{align}\n",
        "A_2 = \\sigma(Z_2) = \\sigma(W_2 A_1 ) \\tag{3}\n",
        "\\end{align}\n",
        "where $W_2$ is the weights of the second hidden layer.\n",
        "\n",
        "Finally, we calculate the output volume of the output layer $A_3$ by: <br>\n",
        "\\begin{align}\n",
        "A_3 = S(Z_3) = S(W_3 A_2) \\tag{4}\n",
        "\\end{align}\n",
        "\n",
        "In **Eq. 4**, $W_3$ is the weights of the output layer, $A_2$ is the output volume of the last hidden layer, $S$ stands for softmax and defines by: <br>\n",
        "\\begin{align}\n",
        "S(x_i) = \\frac{e^{x_i}}{\\sum_{j=0}^{k} e^{x_j} } \\tag{5}\n",
        "\\end{align}\n",
        "where $i=0,1,..,k$. We use $k$ to represent classes, and $k=9$ in our case.\n",
        "\n",
        "Finally, we compute the loss function using:\n",
        "\n",
        "\\begin{align}\n",
        "L(Y, A_3) = - \\frac{1}{M} \\sum_{k=0}^{M} \\sum_{i=0}^{N} Y_i^{k} log({A_3}_i^{k}) \\tag{6}\n",
        "\\end{align}\n",
        "\n",
        "where $Y$ is the ground truth labels, $N$ is the number of classes, $M$ is the number of samples in the training batch.\n",
        "\n"
      ]
    },
    {
      "cell_type": "markdown",
      "metadata": {
        "id": "Ch4YH0Ma6Wkh"
      },
      "source": [
        "### Derivative"
      ]
    },
    {
      "cell_type": "markdown",
      "metadata": {
        "id": "tz423ZtX6Wkh"
      },
      "source": [
        "Using what you learnt in undergraduate school, let's calculate the **backward-propagation** for our model in **Fig. 2**. <br>\n",
        "As mentioned earlier, we are interested in $\\frac{\\partial L}{\\partial W_1}$, $\\frac{\\partial L}{\\partial W_2}$ and $\\frac{\\partial L}{\\partial W_3}$, where: \n",
        "\n",
        "\\begin{align}\n",
        "\\frac{\\partial L}{\\partial W_3} = \\frac{\\partial L}{\\partial A_3} \\cdot \\frac{\\partial A_3}{\\partial Z_3} \\cdot \\frac{\\partial Z_3}{\\partial W_3} \\tag{7}\n",
        "\\end{align}\n",
        "\n",
        ",<br>\n",
        "\n",
        "\\begin{align}\n",
        "\\frac{\\partial L}{\\partial W_2} = \\frac{\\partial L}{\\partial A_3} \\cdot \\frac{\\partial A_3}{\\partial Z_3} \\cdot \\frac{\\partial Z_3}{\\partial A_2} \\cdot \\frac{\\partial A_2}{\\partial Z_2} \\cdot \\frac{\\partial Z_2}{\\partial W_2} \\tag{8}\n",
        "\\end{align}\n",
        "\n",
        "and, <br> \n",
        "\n",
        "\\begin{align}\n",
        "\\frac{\\partial L}{\\partial W_1} = \\frac{\\partial L}{\\partial A_3} \\cdot \\frac{\\partial A_3}{\\partial Z_3} \\cdot \\frac{\\partial Z_3}{\\partial A_2} \\cdot \\frac{\\partial A_2}{\\partial Z_2} \\cdot \\frac{\\partial Z_2} {\\partial A_1} \\cdot \\frac{\\partial A_1}{\\partial Z_1} \\cdot \\frac{\\partial Z_1}{\\partial W_1} \\tag{9}\n",
        "\\end{align}\n",
        " \n",
        "From **Eq. 6** we have: <br>\n",
        "\n",
        "The derivative of $L$ with respect to $Z_3$: \n",
        "\\begin{align}\n",
        "\\frac{\\partial L}{\\partial Z_3} = \\frac{\\partial L}{\\partial A_3} \\cdot \\frac{\\partial A_3}{\\partial Z_3} = A_3 - Y \\tag{10}\n",
        "\\end{align}\n",
        "\n",
        "The derivative of $Z_3$ with respect to $W_3$: \n",
        "\\begin{align}\n",
        "\\frac{\\partial Z_3}{\\partial W_3} = A_2 \\tag{11}\n",
        "\\end{align}\n",
        "\n",
        "From **Eq. 7** we have: <br>\n",
        "\n",
        "The derivative of $L$ with respect to $A_2$: \n",
        "\\begin{align}\n",
        "\\frac{\\partial L}{\\partial A_2} = \\frac{\\partial L}{\\partial Z_3} \\cdot \\frac{\\partial Z_3}{\\partial A_2} = (A_3 - Y) W_3\\tag{12}\n",
        "\\end{align}\n",
        "\n",
        "The derivative of $A_2$ with respect to $Z_2$: \n",
        "\\begin{align}\n",
        "\\frac{\\partial A_2}{\\partial Z_2} = (A_2) (1 - A_2) \\tag{13}\n",
        "\\end{align}\n",
        "\n",
        "The derivative of $Z_2$ with respect to $W_2$: \n",
        "\\begin{align}\n",
        "\\frac{\\partial Z_2}{\\partial W_2} = A_1 \\tag{14}\n",
        "\\end{align}\n",
        "\n",
        "From **Eq. 8** we have: <br>\n",
        "\n",
        "The derivative of $L$ with respect to $A_1$: \n",
        "\\begin{align}\n",
        "\\frac{\\partial L}{\\partial A_1} = \\frac{\\partial L}{\\partial A_2} \\cdot \\frac{\\partial A_2}{\\partial Z_2} \\cdot \\frac{\\partial Z_2}{\\partial A_1} = (A_3 - Y) W_3 (A_2) (1 - A_2) W_2 \\tag{15}\n",
        "\\end{align}\n",
        "\n",
        "The derivative of $A_1$ with respect to $Z_1$: \n",
        "\\begin{align}\n",
        "\\frac{\\partial A_1}{\\partial Z_1} = (A_1) (1 - A_1) \\tag{16}\n",
        "\\end{align}\n",
        "\n",
        "The derivative of $Z_1$ with respect to $W_1$: \n",
        "\\begin{align}\n",
        "\\frac{\\partial Z_1}{\\partial W_1} = X \\tag{17}\n",
        "\\end{align}"
      ]
    },
    {
      "cell_type": "markdown",
      "metadata": {
        "id": "fnNak3Ux6Wkh"
      },
      "source": [
        "## Part. 3 Gradient check using finite-difference approximation. (<span style=\"color:green\">0.5 points</span>)\n",
        "\n",
        "When training deep neural network, there are many things that can go wrong. Until this point, you probably notice that we have been going on and on about the gradient. Why? Because the gradient is very important. Hence, you must making sure that the calculation of your gradient is correct. A correct gradient calculation won't promise your model will converge, but if the calculation was wrong your model will perform very weird. This type of error is hard to debug, so we better prevent it beforehand. <br> \n",
        "To perform the gradient check, we can calculate gradient using the [finite-difference approximation](https://en.wikipedia.org/wiki/Finite_difference) (FDA), and let's call the output of FDA numerical gradients. Then we compare this numerical gradients with the gradient we calculate from taking the derivative. If the differences between them are small enough, we can assume that the gradient was calculated correctly. <br>\n",
        "\n",
        "You probably learnt about FDA in your undergraduate, but to refresh your mind, let's have a simple example to see how FDA works. Assume that we have a function $f(x)$ which <br>\n",
        "\n",
        "\\begin{align}\n",
        "f(x) = \\frac{1}{3} x^3 - \\frac{1}{2} x^2 + 1 \\tag{18}\n",
        "\\end{align}\n",
        "\n",
        "Then, the derivative $\\Delta f$ will be: <br>\n",
        "\\begin{align}\n",
        "\\Delta f = x^2 - x \\tag{19}\n",
        "\\end{align}\n",
        "\n",
        "At $x=2.125$, using **Eq. 19** we have $\\Delta f = 2.390625$\n",
        "\n",
        "If we calculate the numerical gradient using FDA we have:\n",
        "\\begin{align}\n",
        "\\Delta_{num\\_grad} f = \\frac{f(x + \\epsilon) - f(x - \\epsilon)}{2 * \\epsilon}  \\tag{20}\n",
        "\\end{align}\n",
        "\n",
        "where $\\epsilon$ is a very small value (E.g. $\\epsilon = 1e-{04}$)\n",
        "\n",
        "At the same point $x=2.125$, using **Eq. 15** we have $\\Delta_{num\\_grad} f = 2.3906250033389753$ <br>\n",
        "\n",
        "We can see that, the calculated values of $\\Delta f$ and $\\Delta_{num\\_grad} f$ are very close to each other. <br>\n",
        "\n",
        "With the same idea, we can check the gradient calculation of our network using FDA. A simple way to do this is: <br>\n",
        "1) We wiggle (by a very small $\\epsilon$ values) the value of our weight for all of the parameters in our model. By all parameters, I mean all of the weights of $W_1$, $W_2$ and $W_3$. E.g. if we use 7 neurons in the first hidden layer and 3 neurons in the second hidden layer, the number of parameters in our network is : <br> \n",
        "$num\\_params(net) = num\\_params(W_1) + num\\_params(W_2) + num\\_params(W_3) = 28*28*7 + 7*7*3 + 3*10 = 5665$ <br>\n",
        "so we have to repeat the \"wiggling\" and calculate the numerical gradient 5665 times. At the end, we have a $num\\_grad$ vector that have shape (5665,) <br>\n",
        "2) Calculate the gradient by taking the derivative. Similarly, we will have a $grad$ vector that also have shape (5665,) <br>\n",
        "3) Compare $num\\_grad$ and $grad$ vectors by: <br>\n",
        "\\begin{align}\n",
        "grad\\_diff = \\frac{||grad - num\\_grad||_2}{|grad + num\\_grad|_2}  \\tag{21}\n",
        "\\end{align}\n",
        "\n",
        "If **grad_diff** is smaller than $1e-{08}$ than we assume that our gradient calculation is correct."
      ]
    },
    {
      "cell_type": "markdown",
      "metadata": {
        "id": "WQs1Ezp26Wki"
      },
      "source": [
        "### Question: Why don't we use FDA to calculate the gradient to update our model? (<span style=\"color:green\">0.5 points</span>) <br>\n",
        " "
      ]
    },
    {
      "cell_type": "markdown",
      "metadata": {
        "id": "wG372lFb6Wki"
      },
      "source": [
        "**Answer:** "
      ]
    },
    {
      "cell_type": "markdown",
      "metadata": {
        "id": "MB1pOuSh6Wki"
      },
      "source": [
        "Using FDA comes with excessive calculation and it is not as efficient as the previous model."
      ]
    },
    {
      "cell_type": "markdown",
      "metadata": {
        "id": "QR7PkEj06Wki"
      },
      "source": [
        "### Hyper-parameters in your training"
      ]
    },
    {
      "cell_type": "code",
      "execution_count": 10,
      "metadata": {
        "colab": {
          "base_uri": "https://localhost:8080/"
        },
        "id": "S8kQPTYP6Wki",
        "outputId": "6ac4a17d-1fd3-4ae0-e95b-09d443e0bd78"
      },
      "outputs": [
        {
          "name": "stdout",
          "output_type": "stream",
          "text": [
            "Num_trains: 60000, num_batchs: 468\n"
          ]
        }
      ],
      "source": [
        "# Flag use to enable/disable weight decay regularization\n",
        "is_weight_decay = True\n",
        "\n",
        "if is_weight_decay:\n",
        "    # Setting lambda coefficient for weight decay\n",
        "    lmda = np.exp(-7)\n",
        "\n",
        "# Seting learning rate and momentum for SGD\n",
        "learning_rate = 0.25\n",
        "beta = 0.5\n",
        "\n",
        "# Seting the number of training epochs\n",
        "epoch = 50\n",
        "# Choose your batch size\n",
        "batch_size = 128\n",
        "# Calculate the number of training iterations base on the number of training samples and your batch size\n",
        "num_batchs = num_trains // batch_size\n",
        "\n",
        "print(\"Num_trains: {}, num_batchs: {}\".format(num_trains, num_batchs))\n"
      ]
    },
    {
      "cell_type": "markdown",
      "metadata": {
        "id": "qsLqADBo6Wkj"
      },
      "source": [
        "### Training your network (<span style=\"color:green\">9.5 points</span>)\n",
        "\n",
        "In this assignment, we will train our model using mini-batch stochatic gradient descent with momentum. To know more about this optimization algorithm, please check out this great [video](https://www.youtube.com/watch?v=k8fTYJPd3_I) from Dr. Andrew Ng. <br>\n",
        "For this assignment, we will use the implementation from **Eq. 22** and **Eq. 23** <br>\n",
        "\n",
        "\\begin{align}\n",
        "v_{dW} = \\beta v_{dW} + (1 - \\beta) dW \\tag{22}\n",
        "\\end{align}\n",
        "\\begin{align}\n",
        "W = W - \\alpha v_{dW} \\tag{23}\n",
        "\\end{align}\n",
        "\n",
        "If you are curious, you can modify the hyper-params in the above section at your will."
      ]
    },
    {
      "cell_type": "code",
      "execution_count": 11,
      "metadata": {
        "colab": {
          "base_uri": "https://localhost:8080/",
          "height": 1000
        },
        "id": "EjVj6QBE6Wkj",
        "outputId": "269bc47d-d211-41bb-dbc1-c6c9cb12c4dc",
        "scrolled": true
      },
      "outputs": [
        {
          "data": {
            "application/javascript": "/* Put everything inside the global mpl namespace */\n/* global mpl */\nwindow.mpl = {};\n\nmpl.get_websocket_type = function () {\n    if (typeof WebSocket !== 'undefined') {\n        return WebSocket;\n    } else if (typeof MozWebSocket !== 'undefined') {\n        return MozWebSocket;\n    } else {\n        alert(\n            'Your browser does not have WebSocket support. ' +\n                'Please try Chrome, Safari or Firefox ≥ 6. ' +\n                'Firefox 4 and 5 are also supported but you ' +\n                'have to enable WebSockets in about:config.'\n        );\n    }\n};\n\nmpl.figure = function (figure_id, websocket, ondownload, parent_element) {\n    this.id = figure_id;\n\n    this.ws = websocket;\n\n    this.supports_binary = this.ws.binaryType !== undefined;\n\n    if (!this.supports_binary) {\n        var warnings = document.getElementById('mpl-warnings');\n        if (warnings) {\n            warnings.style.display = 'block';\n            warnings.textContent =\n                'This browser does not support binary websocket messages. ' +\n                'Performance may be slow.';\n        }\n    }\n\n    this.imageObj = new Image();\n\n    this.context = undefined;\n    this.message = undefined;\n    this.canvas = undefined;\n    this.rubberband_canvas = undefined;\n    this.rubberband_context = undefined;\n    this.format_dropdown = undefined;\n\n    this.image_mode = 'full';\n\n    this.root = document.createElement('div');\n    this.root.setAttribute('style', 'display: inline-block');\n    this._root_extra_style(this.root);\n\n    parent_element.appendChild(this.root);\n\n    this._init_header(this);\n    this._init_canvas(this);\n    this._init_toolbar(this);\n\n    var fig = this;\n\n    this.waiting = false;\n\n    this.ws.onopen = function () {\n        fig.send_message('supports_binary', { value: fig.supports_binary });\n        fig.send_message('send_image_mode', {});\n        if (fig.ratio !== 1) {\n            fig.send_message('set_device_pixel_ratio', {\n                device_pixel_ratio: fig.ratio,\n            });\n        }\n        fig.send_message('refresh', {});\n    };\n\n    this.imageObj.onload = function () {\n        if (fig.image_mode === 'full') {\n            // Full images could contain transparency (where diff images\n            // almost always do), so we need to clear the canvas so that\n            // there is no ghosting.\n            fig.context.clearRect(0, 0, fig.canvas.width, fig.canvas.height);\n        }\n        fig.context.drawImage(fig.imageObj, 0, 0);\n    };\n\n    this.imageObj.onunload = function () {\n        fig.ws.close();\n    };\n\n    this.ws.onmessage = this._make_on_message_function(this);\n\n    this.ondownload = ondownload;\n};\n\nmpl.figure.prototype._init_header = function () {\n    var titlebar = document.createElement('div');\n    titlebar.classList =\n        'ui-dialog-titlebar ui-widget-header ui-corner-all ui-helper-clearfix';\n    var titletext = document.createElement('div');\n    titletext.classList = 'ui-dialog-title';\n    titletext.setAttribute(\n        'style',\n        'width: 100%; text-align: center; padding: 3px;'\n    );\n    titlebar.appendChild(titletext);\n    this.root.appendChild(titlebar);\n    this.header = titletext;\n};\n\nmpl.figure.prototype._canvas_extra_style = function (_canvas_div) {};\n\nmpl.figure.prototype._root_extra_style = function (_canvas_div) {};\n\nmpl.figure.prototype._init_canvas = function () {\n    var fig = this;\n\n    var canvas_div = (this.canvas_div = document.createElement('div'));\n    canvas_div.setAttribute('tabindex', '0');\n    canvas_div.setAttribute(\n        'style',\n        'border: 1px solid #ddd;' +\n            'box-sizing: content-box;' +\n            'clear: both;' +\n            'min-height: 1px;' +\n            'min-width: 1px;' +\n            'outline: 0;' +\n            'overflow: hidden;' +\n            'position: relative;' +\n            'resize: both;' +\n            'z-index: 2;'\n    );\n\n    function on_keyboard_event_closure(name) {\n        return function (event) {\n            return fig.key_event(event, name);\n        };\n    }\n\n    canvas_div.addEventListener(\n        'keydown',\n        on_keyboard_event_closure('key_press')\n    );\n    canvas_div.addEventListener(\n        'keyup',\n        on_keyboard_event_closure('key_release')\n    );\n\n    this._canvas_extra_style(canvas_div);\n    this.root.appendChild(canvas_div);\n\n    var canvas = (this.canvas = document.createElement('canvas'));\n    canvas.classList.add('mpl-canvas');\n    canvas.setAttribute(\n        'style',\n        'box-sizing: content-box;' +\n            'pointer-events: none;' +\n            'position: relative;' +\n            'z-index: 0;'\n    );\n\n    this.context = canvas.getContext('2d');\n\n    var backingStore =\n        this.context.backingStorePixelRatio ||\n        this.context.webkitBackingStorePixelRatio ||\n        this.context.mozBackingStorePixelRatio ||\n        this.context.msBackingStorePixelRatio ||\n        this.context.oBackingStorePixelRatio ||\n        this.context.backingStorePixelRatio ||\n        1;\n\n    this.ratio = (window.devicePixelRatio || 1) / backingStore;\n\n    var rubberband_canvas = (this.rubberband_canvas = document.createElement(\n        'canvas'\n    ));\n    rubberband_canvas.setAttribute(\n        'style',\n        'box-sizing: content-box;' +\n            'left: 0;' +\n            'pointer-events: none;' +\n            'position: absolute;' +\n            'top: 0;' +\n            'z-index: 1;'\n    );\n\n    // Apply a ponyfill if ResizeObserver is not implemented by browser.\n    if (this.ResizeObserver === undefined) {\n        if (window.ResizeObserver !== undefined) {\n            this.ResizeObserver = window.ResizeObserver;\n        } else {\n            var obs = _JSXTOOLS_RESIZE_OBSERVER({});\n            this.ResizeObserver = obs.ResizeObserver;\n        }\n    }\n\n    this.resizeObserverInstance = new this.ResizeObserver(function (entries) {\n        var nentries = entries.length;\n        for (var i = 0; i < nentries; i++) {\n            var entry = entries[i];\n            var width, height;\n            if (entry.contentBoxSize) {\n                if (entry.contentBoxSize instanceof Array) {\n                    // Chrome 84 implements new version of spec.\n                    width = entry.contentBoxSize[0].inlineSize;\n                    height = entry.contentBoxSize[0].blockSize;\n                } else {\n                    // Firefox implements old version of spec.\n                    width = entry.contentBoxSize.inlineSize;\n                    height = entry.contentBoxSize.blockSize;\n                }\n            } else {\n                // Chrome <84 implements even older version of spec.\n                width = entry.contentRect.width;\n                height = entry.contentRect.height;\n            }\n\n            // Keep the size of the canvas and rubber band canvas in sync with\n            // the canvas container.\n            if (entry.devicePixelContentBoxSize) {\n                // Chrome 84 implements new version of spec.\n                canvas.setAttribute(\n                    'width',\n                    entry.devicePixelContentBoxSize[0].inlineSize\n                );\n                canvas.setAttribute(\n                    'height',\n                    entry.devicePixelContentBoxSize[0].blockSize\n                );\n            } else {\n                canvas.setAttribute('width', width * fig.ratio);\n                canvas.setAttribute('height', height * fig.ratio);\n            }\n            /* This rescales the canvas back to display pixels, so that it\n             * appears correct on HiDPI screens. */\n            canvas.style.width = width + 'px';\n            canvas.style.height = height + 'px';\n\n            rubberband_canvas.setAttribute('width', width);\n            rubberband_canvas.setAttribute('height', height);\n\n            // And update the size in Python. We ignore the initial 0/0 size\n            // that occurs as the element is placed into the DOM, which should\n            // otherwise not happen due to the minimum size styling.\n            if (fig.ws.readyState == 1 && width != 0 && height != 0) {\n                fig.request_resize(width, height);\n            }\n        }\n    });\n    this.resizeObserverInstance.observe(canvas_div);\n\n    function on_mouse_event_closure(name) {\n        /* User Agent sniffing is bad, but WebKit is busted:\n         * https://bugs.webkit.org/show_bug.cgi?id=144526\n         * https://bugs.webkit.org/show_bug.cgi?id=181818\n         * The worst that happens here is that they get an extra browser\n         * selection when dragging, if this check fails to catch them.\n         */\n        var UA = navigator.userAgent;\n        var isWebKit = /AppleWebKit/.test(UA) && !/Chrome/.test(UA);\n        if(isWebKit) {\n            return function (event) {\n                /* This prevents the web browser from automatically changing to\n                 * the text insertion cursor when the button is pressed. We\n                 * want to control all of the cursor setting manually through\n                 * the 'cursor' event from matplotlib */\n                event.preventDefault()\n                return fig.mouse_event(event, name);\n            };\n        } else {\n            return function (event) {\n                return fig.mouse_event(event, name);\n            };\n        }\n    }\n\n    canvas_div.addEventListener(\n        'mousedown',\n        on_mouse_event_closure('button_press')\n    );\n    canvas_div.addEventListener(\n        'mouseup',\n        on_mouse_event_closure('button_release')\n    );\n    canvas_div.addEventListener(\n        'dblclick',\n        on_mouse_event_closure('dblclick')\n    );\n    // Throttle sequential mouse events to 1 every 20ms.\n    canvas_div.addEventListener(\n        'mousemove',\n        on_mouse_event_closure('motion_notify')\n    );\n\n    canvas_div.addEventListener(\n        'mouseenter',\n        on_mouse_event_closure('figure_enter')\n    );\n    canvas_div.addEventListener(\n        'mouseleave',\n        on_mouse_event_closure('figure_leave')\n    );\n\n    canvas_div.addEventListener('wheel', function (event) {\n        if (event.deltaY < 0) {\n            event.step = 1;\n        } else {\n            event.step = -1;\n        }\n        on_mouse_event_closure('scroll')(event);\n    });\n\n    canvas_div.appendChild(canvas);\n    canvas_div.appendChild(rubberband_canvas);\n\n    this.rubberband_context = rubberband_canvas.getContext('2d');\n    this.rubberband_context.strokeStyle = '#000000';\n\n    this._resize_canvas = function (width, height, forward) {\n        if (forward) {\n            canvas_div.style.width = width + 'px';\n            canvas_div.style.height = height + 'px';\n        }\n    };\n\n    // Disable right mouse context menu.\n    canvas_div.addEventListener('contextmenu', function (_e) {\n        event.preventDefault();\n        return false;\n    });\n\n    function set_focus() {\n        canvas.focus();\n        canvas_div.focus();\n    }\n\n    window.setTimeout(set_focus, 100);\n};\n\nmpl.figure.prototype._init_toolbar = function () {\n    var fig = this;\n\n    var toolbar = document.createElement('div');\n    toolbar.classList = 'mpl-toolbar';\n    this.root.appendChild(toolbar);\n\n    function on_click_closure(name) {\n        return function (_event) {\n            return fig.toolbar_button_onclick(name);\n        };\n    }\n\n    function on_mouseover_closure(tooltip) {\n        return function (event) {\n            if (!event.currentTarget.disabled) {\n                return fig.toolbar_button_onmouseover(tooltip);\n            }\n        };\n    }\n\n    fig.buttons = {};\n    var buttonGroup = document.createElement('div');\n    buttonGroup.classList = 'mpl-button-group';\n    for (var toolbar_ind in mpl.toolbar_items) {\n        var name = mpl.toolbar_items[toolbar_ind][0];\n        var tooltip = mpl.toolbar_items[toolbar_ind][1];\n        var image = mpl.toolbar_items[toolbar_ind][2];\n        var method_name = mpl.toolbar_items[toolbar_ind][3];\n\n        if (!name) {\n            /* Instead of a spacer, we start a new button group. */\n            if (buttonGroup.hasChildNodes()) {\n                toolbar.appendChild(buttonGroup);\n            }\n            buttonGroup = document.createElement('div');\n            buttonGroup.classList = 'mpl-button-group';\n            continue;\n        }\n\n        var button = (fig.buttons[name] = document.createElement('button'));\n        button.classList = 'mpl-widget';\n        button.setAttribute('role', 'button');\n        button.setAttribute('aria-disabled', 'false');\n        button.addEventListener('click', on_click_closure(method_name));\n        button.addEventListener('mouseover', on_mouseover_closure(tooltip));\n\n        var icon_img = document.createElement('img');\n        icon_img.src = '_images/' + image + '.png';\n        icon_img.srcset = '_images/' + image + '_large.png 2x';\n        icon_img.alt = tooltip;\n        button.appendChild(icon_img);\n\n        buttonGroup.appendChild(button);\n    }\n\n    if (buttonGroup.hasChildNodes()) {\n        toolbar.appendChild(buttonGroup);\n    }\n\n    var fmt_picker = document.createElement('select');\n    fmt_picker.classList = 'mpl-widget';\n    toolbar.appendChild(fmt_picker);\n    this.format_dropdown = fmt_picker;\n\n    for (var ind in mpl.extensions) {\n        var fmt = mpl.extensions[ind];\n        var option = document.createElement('option');\n        option.selected = fmt === mpl.default_extension;\n        option.innerHTML = fmt;\n        fmt_picker.appendChild(option);\n    }\n\n    var status_bar = document.createElement('span');\n    status_bar.classList = 'mpl-message';\n    toolbar.appendChild(status_bar);\n    this.message = status_bar;\n};\n\nmpl.figure.prototype.request_resize = function (x_pixels, y_pixels) {\n    // Request matplotlib to resize the figure. Matplotlib will then trigger a resize in the client,\n    // which will in turn request a refresh of the image.\n    this.send_message('resize', { width: x_pixels, height: y_pixels });\n};\n\nmpl.figure.prototype.send_message = function (type, properties) {\n    properties['type'] = type;\n    properties['figure_id'] = this.id;\n    this.ws.send(JSON.stringify(properties));\n};\n\nmpl.figure.prototype.send_draw_message = function () {\n    if (!this.waiting) {\n        this.waiting = true;\n        this.ws.send(JSON.stringify({ type: 'draw', figure_id: this.id }));\n    }\n};\n\nmpl.figure.prototype.handle_save = function (fig, _msg) {\n    var format_dropdown = fig.format_dropdown;\n    var format = format_dropdown.options[format_dropdown.selectedIndex].value;\n    fig.ondownload(fig, format);\n};\n\nmpl.figure.prototype.handle_resize = function (fig, msg) {\n    var size = msg['size'];\n    if (size[0] !== fig.canvas.width || size[1] !== fig.canvas.height) {\n        fig._resize_canvas(size[0], size[1], msg['forward']);\n        fig.send_message('refresh', {});\n    }\n};\n\nmpl.figure.prototype.handle_rubberband = function (fig, msg) {\n    var x0 = msg['x0'] / fig.ratio;\n    var y0 = (fig.canvas.height - msg['y0']) / fig.ratio;\n    var x1 = msg['x1'] / fig.ratio;\n    var y1 = (fig.canvas.height - msg['y1']) / fig.ratio;\n    x0 = Math.floor(x0) + 0.5;\n    y0 = Math.floor(y0) + 0.5;\n    x1 = Math.floor(x1) + 0.5;\n    y1 = Math.floor(y1) + 0.5;\n    var min_x = Math.min(x0, x1);\n    var min_y = Math.min(y0, y1);\n    var width = Math.abs(x1 - x0);\n    var height = Math.abs(y1 - y0);\n\n    fig.rubberband_context.clearRect(\n        0,\n        0,\n        fig.canvas.width / fig.ratio,\n        fig.canvas.height / fig.ratio\n    );\n\n    fig.rubberband_context.strokeRect(min_x, min_y, width, height);\n};\n\nmpl.figure.prototype.handle_figure_label = function (fig, msg) {\n    // Updates the figure title.\n    fig.header.textContent = msg['label'];\n};\n\nmpl.figure.prototype.handle_cursor = function (fig, msg) {\n    fig.canvas_div.style.cursor = msg['cursor'];\n};\n\nmpl.figure.prototype.handle_message = function (fig, msg) {\n    fig.message.textContent = msg['message'];\n};\n\nmpl.figure.prototype.handle_draw = function (fig, _msg) {\n    // Request the server to send over a new figure.\n    fig.send_draw_message();\n};\n\nmpl.figure.prototype.handle_image_mode = function (fig, msg) {\n    fig.image_mode = msg['mode'];\n};\n\nmpl.figure.prototype.handle_history_buttons = function (fig, msg) {\n    for (var key in msg) {\n        if (!(key in fig.buttons)) {\n            continue;\n        }\n        fig.buttons[key].disabled = !msg[key];\n        fig.buttons[key].setAttribute('aria-disabled', !msg[key]);\n    }\n};\n\nmpl.figure.prototype.handle_navigate_mode = function (fig, msg) {\n    if (msg['mode'] === 'PAN') {\n        fig.buttons['Pan'].classList.add('active');\n        fig.buttons['Zoom'].classList.remove('active');\n    } else if (msg['mode'] === 'ZOOM') {\n        fig.buttons['Pan'].classList.remove('active');\n        fig.buttons['Zoom'].classList.add('active');\n    } else {\n        fig.buttons['Pan'].classList.remove('active');\n        fig.buttons['Zoom'].classList.remove('active');\n    }\n};\n\nmpl.figure.prototype.updated_canvas_event = function () {\n    // Called whenever the canvas gets updated.\n    this.send_message('ack', {});\n};\n\n// A function to construct a web socket function for onmessage handling.\n// Called in the figure constructor.\nmpl.figure.prototype._make_on_message_function = function (fig) {\n    return function socket_on_message(evt) {\n        if (evt.data instanceof Blob) {\n            var img = evt.data;\n            if (img.type !== 'image/png') {\n                /* FIXME: We get \"Resource interpreted as Image but\n                 * transferred with MIME type text/plain:\" errors on\n                 * Chrome.  But how to set the MIME type?  It doesn't seem\n                 * to be part of the websocket stream */\n                img.type = 'image/png';\n            }\n\n            /* Free the memory for the previous frames */\n            if (fig.imageObj.src) {\n                (window.URL || window.webkitURL).revokeObjectURL(\n                    fig.imageObj.src\n                );\n            }\n\n            fig.imageObj.src = (window.URL || window.webkitURL).createObjectURL(\n                img\n            );\n            fig.updated_canvas_event();\n            fig.waiting = false;\n            return;\n        } else if (\n            typeof evt.data === 'string' &&\n            evt.data.slice(0, 21) === 'data:image/png;base64'\n        ) {\n            fig.imageObj.src = evt.data;\n            fig.updated_canvas_event();\n            fig.waiting = false;\n            return;\n        }\n\n        var msg = JSON.parse(evt.data);\n        var msg_type = msg['type'];\n\n        // Call the  \"handle_{type}\" callback, which takes\n        // the figure and JSON message as its only arguments.\n        try {\n            var callback = fig['handle_' + msg_type];\n        } catch (e) {\n            console.log(\n                \"No handler for the '\" + msg_type + \"' message type: \",\n                msg\n            );\n            return;\n        }\n\n        if (callback) {\n            try {\n                // console.log(\"Handling '\" + msg_type + \"' message: \", msg);\n                callback(fig, msg);\n            } catch (e) {\n                console.log(\n                    \"Exception inside the 'handler_\" + msg_type + \"' callback:\",\n                    e,\n                    e.stack,\n                    msg\n                );\n            }\n        }\n    };\n};\n\n\n/*\n * return a copy of an object with only non-object keys\n * we need this to avoid circular references\n * https://stackoverflow.com/a/24161582/3208463\n */\nfunction simpleKeys(original) {\n    return Object.keys(original).reduce(function (obj, key) {\n        if (typeof original[key] !== 'object') {\n            obj[key] = original[key];\n        }\n        return obj;\n    }, {});\n}\n\nmpl.figure.prototype.mouse_event = function (event, name) {\n    if (name === 'button_press') {\n        this.canvas.focus();\n        this.canvas_div.focus();\n    }\n\n    // from https://stackoverflow.com/q/1114465\n    var boundingRect = this.canvas.getBoundingClientRect();\n    var x = (event.clientX - boundingRect.left) * this.ratio;\n    var y = (event.clientY - boundingRect.top) * this.ratio;\n\n    this.send_message(name, {\n        x: x,\n        y: y,\n        button: event.button,\n        step: event.step,\n        guiEvent: simpleKeys(event),\n    });\n\n    return false;\n};\n\nmpl.figure.prototype._key_event_extra = function (_event, _name) {\n    // Handle any extra behaviour associated with a key event\n};\n\nmpl.figure.prototype.key_event = function (event, name) {\n    // Prevent repeat events\n    if (name === 'key_press') {\n        if (event.key === this._key) {\n            return;\n        } else {\n            this._key = event.key;\n        }\n    }\n    if (name === 'key_release') {\n        this._key = null;\n    }\n\n    var value = '';\n    if (event.ctrlKey && event.key !== 'Control') {\n        value += 'ctrl+';\n    }\n    else if (event.altKey && event.key !== 'Alt') {\n        value += 'alt+';\n    }\n    else if (event.shiftKey && event.key !== 'Shift') {\n        value += 'shift+';\n    }\n\n    value += 'k' + event.key;\n\n    this._key_event_extra(event, name);\n\n    this.send_message(name, { key: value, guiEvent: simpleKeys(event) });\n    return false;\n};\n\nmpl.figure.prototype.toolbar_button_onclick = function (name) {\n    if (name === 'download') {\n        this.handle_save(this, null);\n    } else {\n        this.send_message('toolbar_button', { name: name });\n    }\n};\n\nmpl.figure.prototype.toolbar_button_onmouseover = function (tooltip) {\n    this.message.textContent = tooltip;\n};\n\n///////////////// REMAINING CONTENT GENERATED BY embed_js.py /////////////////\n// prettier-ignore\nvar _JSXTOOLS_RESIZE_OBSERVER=function(A){var t,i=new WeakMap,n=new WeakMap,a=new WeakMap,r=new WeakMap,o=new Set;function s(e){if(!(this instanceof s))throw new TypeError(\"Constructor requires 'new' operator\");i.set(this,e)}function h(){throw new TypeError(\"Function is not a constructor\")}function c(e,t,i,n){e=0 in arguments?Number(arguments[0]):0,t=1 in arguments?Number(arguments[1]):0,i=2 in arguments?Number(arguments[2]):0,n=3 in arguments?Number(arguments[3]):0,this.right=(this.x=this.left=e)+(this.width=i),this.bottom=(this.y=this.top=t)+(this.height=n),Object.freeze(this)}function d(){t=requestAnimationFrame(d);var s=new WeakMap,p=new Set;o.forEach((function(t){r.get(t).forEach((function(i){var r=t instanceof window.SVGElement,o=a.get(t),d=r?0:parseFloat(o.paddingTop),f=r?0:parseFloat(o.paddingRight),l=r?0:parseFloat(o.paddingBottom),u=r?0:parseFloat(o.paddingLeft),g=r?0:parseFloat(o.borderTopWidth),m=r?0:parseFloat(o.borderRightWidth),w=r?0:parseFloat(o.borderBottomWidth),b=u+f,F=d+l,v=(r?0:parseFloat(o.borderLeftWidth))+m,W=g+w,y=r?0:t.offsetHeight-W-t.clientHeight,E=r?0:t.offsetWidth-v-t.clientWidth,R=b+v,z=F+W,M=r?t.width:parseFloat(o.width)-R-E,O=r?t.height:parseFloat(o.height)-z-y;if(n.has(t)){var k=n.get(t);if(k[0]===M&&k[1]===O)return}n.set(t,[M,O]);var S=Object.create(h.prototype);S.target=t,S.contentRect=new c(u,d,M,O),s.has(i)||(s.set(i,[]),p.add(i)),s.get(i).push(S)}))})),p.forEach((function(e){i.get(e).call(e,s.get(e),e)}))}return s.prototype.observe=function(i){if(i instanceof window.Element){r.has(i)||(r.set(i,new Set),o.add(i),a.set(i,window.getComputedStyle(i)));var n=r.get(i);n.has(this)||n.add(this),cancelAnimationFrame(t),t=requestAnimationFrame(d)}},s.prototype.unobserve=function(i){if(i instanceof window.Element&&r.has(i)){var n=r.get(i);n.has(this)&&(n.delete(this),n.size||(r.delete(i),o.delete(i))),n.size||r.delete(i),o.size||cancelAnimationFrame(t)}},A.DOMRectReadOnly=c,A.ResizeObserver=s,A.ResizeObserverEntry=h,A}; // eslint-disable-line\nmpl.toolbar_items = [[\"Home\", \"Reset original view\", \"fa fa-home\", \"home\"], [\"Back\", \"Back to previous view\", \"fa fa-arrow-left\", \"back\"], [\"Forward\", \"Forward to next view\", \"fa fa-arrow-right\", \"forward\"], [\"\", \"\", \"\", \"\"], [\"Pan\", \"Left button pans, Right button zooms\\nx/y fixes axis, CTRL fixes aspect\", \"fa fa-arrows\", \"pan\"], [\"Zoom\", \"Zoom to rectangle\\nx/y fixes axis\", \"fa fa-square-o\", \"zoom\"], [\"\", \"\", \"\", \"\"], [\"Download\", \"Download plot\", \"fa fa-floppy-o\", \"download\"]];\n\nmpl.extensions = [\"eps\", \"jpeg\", \"pgf\", \"pdf\", \"png\", \"ps\", \"raw\", \"svg\", \"tif\", \"webp\"];\n\nmpl.default_extension = \"png\";/* global mpl */\n\nvar comm_websocket_adapter = function (comm) {\n    // Create a \"websocket\"-like object which calls the given IPython comm\n    // object with the appropriate methods. Currently this is a non binary\n    // socket, so there is still some room for performance tuning.\n    var ws = {};\n\n    ws.binaryType = comm.kernel.ws.binaryType;\n    ws.readyState = comm.kernel.ws.readyState;\n    function updateReadyState(_event) {\n        if (comm.kernel.ws) {\n            ws.readyState = comm.kernel.ws.readyState;\n        } else {\n            ws.readyState = 3; // Closed state.\n        }\n    }\n    comm.kernel.ws.addEventListener('open', updateReadyState);\n    comm.kernel.ws.addEventListener('close', updateReadyState);\n    comm.kernel.ws.addEventListener('error', updateReadyState);\n\n    ws.close = function () {\n        comm.close();\n    };\n    ws.send = function (m) {\n        //console.log('sending', m);\n        comm.send(m);\n    };\n    // Register the callback with on_msg.\n    comm.on_msg(function (msg) {\n        //console.log('receiving', msg['content']['data'], msg);\n        var data = msg['content']['data'];\n        if (data['blob'] !== undefined) {\n            data = {\n                data: new Blob(msg['buffers'], { type: data['blob'] }),\n            };\n        }\n        // Pass the mpl event to the overridden (by mpl) onmessage function.\n        ws.onmessage(data);\n    });\n    return ws;\n};\n\nmpl.mpl_figure_comm = function (comm, msg) {\n    // This is the function which gets called when the mpl process\n    // starts-up an IPython Comm through the \"matplotlib\" channel.\n\n    var id = msg.content.data.id;\n    // Get hold of the div created by the display call when the Comm\n    // socket was opened in Python.\n    var element = document.getElementById(id);\n    var ws_proxy = comm_websocket_adapter(comm);\n\n    function ondownload(figure, _format) {\n        window.open(figure.canvas.toDataURL());\n    }\n\n    var fig = new mpl.figure(id, ws_proxy, ondownload, element);\n\n    // Call onopen now - mpl needs it, as it is assuming we've passed it a real\n    // web socket which is closed, not our websocket->open comm proxy.\n    ws_proxy.onopen();\n\n    fig.parent_element = element;\n    fig.cell_info = mpl.find_output_cell(\"<div id='\" + id + \"'></div>\");\n    if (!fig.cell_info) {\n        console.error('Failed to find cell for figure', id, fig);\n        return;\n    }\n    fig.cell_info[0].output_area.element.on(\n        'cleared',\n        { fig: fig },\n        fig._remove_fig_handler\n    );\n};\n\nmpl.figure.prototype.handle_close = function (fig, msg) {\n    var width = fig.canvas.width / fig.ratio;\n    fig.cell_info[0].output_area.element.off(\n        'cleared',\n        fig._remove_fig_handler\n    );\n    fig.resizeObserverInstance.unobserve(fig.canvas_div);\n\n    // Update the output cell to use the data from the current canvas.\n    fig.push_to_output();\n    var dataURL = fig.canvas.toDataURL();\n    // Re-enable the keyboard manager in IPython - without this line, in FF,\n    // the notebook keyboard shortcuts fail.\n    IPython.keyboard_manager.enable();\n    fig.parent_element.innerHTML =\n        '<img src=\"' + dataURL + '\" width=\"' + width + '\">';\n    fig.close_ws(fig, msg);\n};\n\nmpl.figure.prototype.close_ws = function (fig, msg) {\n    fig.send_message('closing', msg);\n    // fig.ws.close()\n};\n\nmpl.figure.prototype.push_to_output = function (_remove_interactive) {\n    // Turn the data on the canvas into data in the output cell.\n    var width = this.canvas.width / this.ratio;\n    var dataURL = this.canvas.toDataURL();\n    this.cell_info[1]['text/html'] =\n        '<img src=\"' + dataURL + '\" width=\"' + width + '\">';\n};\n\nmpl.figure.prototype.updated_canvas_event = function () {\n    // Tell IPython that the notebook contents must change.\n    IPython.notebook.set_dirty(true);\n    this.send_message('ack', {});\n    var fig = this;\n    // Wait a second, then push the new image to the DOM so\n    // that it is saved nicely (might be nice to debounce this).\n    setTimeout(function () {\n        fig.push_to_output();\n    }, 1000);\n};\n\nmpl.figure.prototype._init_toolbar = function () {\n    var fig = this;\n\n    var toolbar = document.createElement('div');\n    toolbar.classList = 'btn-toolbar';\n    this.root.appendChild(toolbar);\n\n    function on_click_closure(name) {\n        return function (_event) {\n            return fig.toolbar_button_onclick(name);\n        };\n    }\n\n    function on_mouseover_closure(tooltip) {\n        return function (event) {\n            if (!event.currentTarget.disabled) {\n                return fig.toolbar_button_onmouseover(tooltip);\n            }\n        };\n    }\n\n    fig.buttons = {};\n    var buttonGroup = document.createElement('div');\n    buttonGroup.classList = 'btn-group';\n    var button;\n    for (var toolbar_ind in mpl.toolbar_items) {\n        var name = mpl.toolbar_items[toolbar_ind][0];\n        var tooltip = mpl.toolbar_items[toolbar_ind][1];\n        var image = mpl.toolbar_items[toolbar_ind][2];\n        var method_name = mpl.toolbar_items[toolbar_ind][3];\n\n        if (!name) {\n            /* Instead of a spacer, we start a new button group. */\n            if (buttonGroup.hasChildNodes()) {\n                toolbar.appendChild(buttonGroup);\n            }\n            buttonGroup = document.createElement('div');\n            buttonGroup.classList = 'btn-group';\n            continue;\n        }\n\n        button = fig.buttons[name] = document.createElement('button');\n        button.classList = 'btn btn-default';\n        button.href = '#';\n        button.title = name;\n        button.innerHTML = '<i class=\"fa ' + image + ' fa-lg\"></i>';\n        button.addEventListener('click', on_click_closure(method_name));\n        button.addEventListener('mouseover', on_mouseover_closure(tooltip));\n        buttonGroup.appendChild(button);\n    }\n\n    if (buttonGroup.hasChildNodes()) {\n        toolbar.appendChild(buttonGroup);\n    }\n\n    // Add the status bar.\n    var status_bar = document.createElement('span');\n    status_bar.classList = 'mpl-message pull-right';\n    toolbar.appendChild(status_bar);\n    this.message = status_bar;\n\n    // Add the close button to the window.\n    var buttongrp = document.createElement('div');\n    buttongrp.classList = 'btn-group inline pull-right';\n    button = document.createElement('button');\n    button.classList = 'btn btn-mini btn-primary';\n    button.href = '#';\n    button.title = 'Stop Interaction';\n    button.innerHTML = '<i class=\"fa fa-power-off icon-remove icon-large\"></i>';\n    button.addEventListener('click', function (_evt) {\n        fig.handle_close(fig, {});\n    });\n    button.addEventListener(\n        'mouseover',\n        on_mouseover_closure('Stop Interaction')\n    );\n    buttongrp.appendChild(button);\n    var titlebar = this.root.querySelector('.ui-dialog-titlebar');\n    titlebar.insertBefore(buttongrp, titlebar.firstChild);\n};\n\nmpl.figure.prototype._remove_fig_handler = function (event) {\n    var fig = event.data.fig;\n    if (event.target !== this) {\n        // Ignore bubbled events from children.\n        return;\n    }\n    fig.close_ws(fig, {});\n};\n\nmpl.figure.prototype._root_extra_style = function (el) {\n    el.style.boxSizing = 'content-box'; // override notebook setting of border-box.\n};\n\nmpl.figure.prototype._canvas_extra_style = function (el) {\n    // this is important to make the div 'focusable\n    el.setAttribute('tabindex', 0);\n    // reach out to IPython and tell the keyboard manager to turn it's self\n    // off when our div gets focus\n\n    // location in version 3\n    if (IPython.notebook.keyboard_manager) {\n        IPython.notebook.keyboard_manager.register_events(el);\n    } else {\n        // location in version 2\n        IPython.keyboard_manager.register_events(el);\n    }\n};\n\nmpl.figure.prototype._key_event_extra = function (event, _name) {\n    // Check for shift+enter\n    if (event.shiftKey && event.which === 13) {\n        this.canvas_div.blur();\n        // select the cell after this one\n        var index = IPython.notebook.find_cell_index(this.cell_info[0]);\n        IPython.notebook.select(index + 1);\n    }\n};\n\nmpl.figure.prototype.handle_save = function (fig, _msg) {\n    fig.ondownload(fig, null);\n};\n\nmpl.find_output_cell = function (html_output) {\n    // Return the cell and output element which can be found *uniquely* in the notebook.\n    // Note - this is a bit hacky, but it is done because the \"notebook_saving.Notebook\"\n    // IPython event is triggered only after the cells have been serialised, which for\n    // our purposes (turning an active figure into a static one), is too late.\n    var cells = IPython.notebook.get_cells();\n    var ncells = cells.length;\n    for (var i = 0; i < ncells; i++) {\n        var cell = cells[i];\n        if (cell.cell_type === 'code') {\n            for (var j = 0; j < cell.output_area.outputs.length; j++) {\n                var data = cell.output_area.outputs[j];\n                if (data.data) {\n                    // IPython >= 3 moved mimebundle to data attribute of output\n                    data = data.data;\n                }\n                if (data['text/html'] === html_output) {\n                    return [cell, data, j];\n                }\n            }\n        }\n    }\n};\n\n// Register the function which deals with the matplotlib target/channel.\n// The kernel may be null if the page has been refreshed.\nif (IPython.notebook.kernel !== null) {\n    IPython.notebook.kernel.comm_manager.register_target(\n        'matplotlib',\n        mpl.mpl_figure_comm\n    );\n}\n",
            "text/plain": [
              "<IPython.core.display.Javascript object>"
            ]
          },
          "metadata": {},
          "output_type": "display_data"
        },
        {
          "data": {
            "text/html": [
              "<div id='b1643272-6bc3-43e1-afb5-06183eb48512'></div>"
            ],
            "text/plain": [
              "<IPython.core.display.HTML object>"
            ]
          },
          "metadata": {},
          "output_type": "display_data"
        },
        {
          "name": "stdout",
          "output_type": "stream",
          "text": [
            "[Epoch/Iterations]:[0/0], loss: 12.334371403928717\n",
            "[Epoch/Iterations]:[0/100], loss: 9.31171171010917\n",
            "[Epoch/Iterations]:[0/200], loss: 9.06534707376491\n",
            "[Epoch/Iterations]:[0/300], loss: 8.927320991286539\n",
            "[Epoch/Iterations]:[0/400], loss: 8.852407209522905\n",
            "=> Elapsed time epoch #0 : 0.94 seconds\n",
            "[Epoch/Iterations]:[1/0], loss: 8.646670673354638\n",
            "[Epoch/Iterations]:[1/100], loss: 8.635900066218447\n",
            "[Epoch/Iterations]:[1/200], loss: 8.687254450539251\n",
            "[Epoch/Iterations]:[1/300], loss: 8.586472768750111\n",
            "[Epoch/Iterations]:[1/400], loss: 8.666814778091767\n",
            "=> Elapsed time epoch #1 : 1.00 seconds\n",
            "[Epoch/Iterations]:[2/0], loss: 8.573046498608928\n",
            "[Epoch/Iterations]:[2/100], loss: 8.425978017311422\n",
            "[Epoch/Iterations]:[2/200], loss: 8.612418283763937\n",
            "[Epoch/Iterations]:[2/300], loss: 8.470609963317454\n",
            "[Epoch/Iterations]:[2/400], loss: 8.44239004249198\n",
            "=> Elapsed time epoch #2 : 0.77 seconds\n",
            "[Epoch/Iterations]:[3/0], loss: 8.57421281444201\n",
            "[Epoch/Iterations]:[3/100], loss: 8.557844608968205\n",
            "[Epoch/Iterations]:[3/200], loss: 8.507446962963924\n",
            "[Epoch/Iterations]:[3/300], loss: 8.528181863466788\n",
            "[Epoch/Iterations]:[3/400], loss: 8.49124862720972\n",
            "=> Elapsed time epoch #3 : 0.73 seconds\n",
            "[Epoch/Iterations]:[4/0], loss: 8.358132374435533\n",
            "[Epoch/Iterations]:[4/100], loss: 8.230682612051682\n",
            "[Epoch/Iterations]:[4/200], loss: 8.46676006319546\n",
            "[Epoch/Iterations]:[4/300], loss: 8.376483476299185\n",
            "[Epoch/Iterations]:[4/400], loss: 8.232194771588356\n",
            "=> Elapsed time epoch #4 : 0.78 seconds\n",
            "[Epoch/Iterations]:[5/0], loss: 8.382814143705094\n",
            "[Epoch/Iterations]:[5/100], loss: 8.507975771606695\n",
            "[Epoch/Iterations]:[5/200], loss: 8.417322052343673\n",
            "[Epoch/Iterations]:[5/300], loss: 8.380619546313973\n",
            "[Epoch/Iterations]:[5/400], loss: 8.35744196475114\n",
            "=> Elapsed time epoch #5 : 1.05 seconds\n",
            "[Epoch/Iterations]:[6/0], loss: 8.335798242555313\n",
            "[Epoch/Iterations]:[6/100], loss: 8.30660408942479\n",
            "[Epoch/Iterations]:[6/200], loss: 8.421585233067727\n",
            "[Epoch/Iterations]:[6/300], loss: 8.369332885826005\n",
            "[Epoch/Iterations]:[6/400], loss: 8.333656854008277\n",
            "=> Elapsed time epoch #6 : 0.97 seconds\n",
            "[Epoch/Iterations]:[7/0], loss: 8.397569990021656\n",
            "[Epoch/Iterations]:[7/100], loss: 8.347087408229456\n",
            "[Epoch/Iterations]:[7/200], loss: 8.402694488265698\n",
            "[Epoch/Iterations]:[7/300], loss: 8.293311070273031\n",
            "[Epoch/Iterations]:[7/400], loss: 8.220595596614219\n",
            "=> Elapsed time epoch #7 : 0.79 seconds\n",
            "[Epoch/Iterations]:[8/0], loss: 8.234893954204237\n",
            "[Epoch/Iterations]:[8/100], loss: 8.34953407113946\n",
            "[Epoch/Iterations]:[8/200], loss: 8.479017592803542\n",
            "[Epoch/Iterations]:[8/300], loss: 8.495771208350797\n",
            "[Epoch/Iterations]:[8/400], loss: 8.214534839040011\n",
            "=> Elapsed time epoch #8 : 0.75 seconds\n",
            "[Epoch/Iterations]:[9/0], loss: 8.25628393651024\n",
            "[Epoch/Iterations]:[9/100], loss: 8.347345164849049\n",
            "[Epoch/Iterations]:[9/200], loss: 8.388187862160912\n",
            "[Epoch/Iterations]:[9/300], loss: 8.197990340916228\n",
            "[Epoch/Iterations]:[9/400], loss: 8.25731340540993\n",
            "=> Elapsed time epoch #9 : 0.75 seconds\n",
            "[Epoch/Iterations]:[10/0], loss: 8.413437729331061\n",
            "[Epoch/Iterations]:[10/100], loss: 8.251011658938321\n",
            "[Epoch/Iterations]:[10/200], loss: 8.1698545354667\n",
            "[Epoch/Iterations]:[10/300], loss: 8.164358064760746\n",
            "[Epoch/Iterations]:[10/400], loss: 8.27651522312817\n",
            "=> Elapsed time epoch #10 : 0.77 seconds\n",
            "[Epoch/Iterations]:[11/0], loss: 8.333659365235716\n",
            "[Epoch/Iterations]:[11/100], loss: 8.283633721920832\n",
            "[Epoch/Iterations]:[11/200], loss: 8.151036853555446\n",
            "[Epoch/Iterations]:[11/300], loss: 8.251935270024397\n",
            "[Epoch/Iterations]:[11/400], loss: 8.34266991470086\n",
            "=> Elapsed time epoch #11 : 0.78 seconds\n",
            "[Epoch/Iterations]:[12/0], loss: 8.369709220073233\n",
            "[Epoch/Iterations]:[12/100], loss: 8.309859749257138\n",
            "[Epoch/Iterations]:[12/200], loss: 8.243461010139924\n",
            "[Epoch/Iterations]:[12/300], loss: 8.31099551689513\n",
            "[Epoch/Iterations]:[12/400], loss: 8.15792072249508\n",
            "=> Elapsed time epoch #12 : 0.77 seconds\n",
            "[Epoch/Iterations]:[13/0], loss: 8.322935561325282\n",
            "[Epoch/Iterations]:[13/100], loss: 8.35453034992157\n",
            "[Epoch/Iterations]:[13/200], loss: 8.247965302467348\n",
            "[Epoch/Iterations]:[13/300], loss: 8.056581668466013\n",
            "[Epoch/Iterations]:[13/400], loss: 8.389172894131962\n",
            "=> Elapsed time epoch #13 : 0.74 seconds\n",
            "[Epoch/Iterations]:[14/0], loss: 8.090300448495718\n",
            "[Epoch/Iterations]:[14/100], loss: 8.235325486912528\n",
            "[Epoch/Iterations]:[14/200], loss: 8.190707569295634\n",
            "[Epoch/Iterations]:[14/300], loss: 8.148631009484655\n",
            "[Epoch/Iterations]:[14/400], loss: 8.120360886480968\n",
            "=> Elapsed time epoch #14 : 0.72 seconds\n",
            "[Epoch/Iterations]:[15/0], loss: 8.089043470166196\n",
            "[Epoch/Iterations]:[15/100], loss: 8.108022374663905\n",
            "[Epoch/Iterations]:[15/200], loss: 8.301647354805864\n",
            "[Epoch/Iterations]:[15/300], loss: 8.173936982046635\n",
            "[Epoch/Iterations]:[15/400], loss: 8.230095782959356\n",
            "=> Elapsed time epoch #15 : 0.72 seconds\n",
            "[Epoch/Iterations]:[16/0], loss: 8.15536541109969\n",
            "[Epoch/Iterations]:[16/100], loss: 8.158387082500951\n",
            "[Epoch/Iterations]:[16/200], loss: 8.097113984844276\n",
            "[Epoch/Iterations]:[16/300], loss: 8.145651135206382\n",
            "[Epoch/Iterations]:[16/400], loss: 8.10882717652257\n",
            "=> Elapsed time epoch #16 : 0.73 seconds\n",
            "[Epoch/Iterations]:[17/0], loss: 8.055631098586755\n",
            "[Epoch/Iterations]:[17/100], loss: 8.070789800697543\n",
            "[Epoch/Iterations]:[17/200], loss: 8.030264544335886\n",
            "[Epoch/Iterations]:[17/300], loss: 7.946447957293679\n",
            "[Epoch/Iterations]:[17/400], loss: 8.059055036536876\n",
            "=> Elapsed time epoch #17 : 0.73 seconds\n",
            "[Epoch/Iterations]:[18/0], loss: 8.064535522027173\n",
            "[Epoch/Iterations]:[18/100], loss: 8.21201917358551\n",
            "[Epoch/Iterations]:[18/200], loss: 8.146262733368447\n",
            "[Epoch/Iterations]:[18/300], loss: 8.111340527802472\n",
            "[Epoch/Iterations]:[18/400], loss: 8.081408892660018\n",
            "=> Elapsed time epoch #18 : 0.84 seconds\n",
            "[Epoch/Iterations]:[19/0], loss: 8.09368364348063\n",
            "[Epoch/Iterations]:[19/100], loss: 8.185797669135972\n",
            "[Epoch/Iterations]:[19/200], loss: 8.108466319146531\n",
            "[Epoch/Iterations]:[19/300], loss: 7.990712807440628\n",
            "[Epoch/Iterations]:[19/400], loss: 8.155257600979166\n",
            "=> Elapsed time epoch #19 : 0.97 seconds\n",
            "[Epoch/Iterations]:[20/0], loss: 7.979402837825965\n",
            "[Epoch/Iterations]:[20/100], loss: 7.940950583393565\n",
            "[Epoch/Iterations]:[20/200], loss: 8.035797179095955\n",
            "[Epoch/Iterations]:[20/300], loss: 8.033340494496871\n",
            "[Epoch/Iterations]:[20/400], loss: 8.103924587375555\n",
            "=> Elapsed time epoch #20 : 0.88 seconds\n",
            "[Epoch/Iterations]:[21/0], loss: 8.03296142865073\n",
            "[Epoch/Iterations]:[21/100], loss: 7.9634850257561824\n",
            "[Epoch/Iterations]:[21/200], loss: 8.019997227442868\n",
            "[Epoch/Iterations]:[21/300], loss: 8.083540958010468\n",
            "[Epoch/Iterations]:[21/400], loss: 7.943181152116281\n",
            "=> Elapsed time epoch #21 : 0.81 seconds\n",
            "[Epoch/Iterations]:[22/0], loss: 8.027098737663524\n",
            "[Epoch/Iterations]:[22/100], loss: 8.152611442327775\n",
            "[Epoch/Iterations]:[22/200], loss: 8.001971626838891\n",
            "[Epoch/Iterations]:[22/300], loss: 8.056869607096157\n",
            "[Epoch/Iterations]:[22/400], loss: 8.067012549746789\n",
            "=> Elapsed time epoch #22 : 0.86 seconds\n",
            "[Epoch/Iterations]:[23/0], loss: 7.970552711279909\n",
            "[Epoch/Iterations]:[23/100], loss: 8.045431792966747\n",
            "[Epoch/Iterations]:[23/200], loss: 8.028803204368769\n",
            "[Epoch/Iterations]:[23/300], loss: 7.965495779400431\n",
            "[Epoch/Iterations]:[23/400], loss: 7.980517990490094\n",
            "=> Elapsed time epoch #23 : 0.74 seconds\n",
            "[Epoch/Iterations]:[24/0], loss: 8.107585690170582\n",
            "[Epoch/Iterations]:[24/100], loss: 8.13484584639857\n",
            "[Epoch/Iterations]:[24/200], loss: 7.981784128670438\n",
            "[Epoch/Iterations]:[24/300], loss: 8.001774747994963\n",
            "[Epoch/Iterations]:[24/400], loss: 8.029545026698925\n",
            "=> Elapsed time epoch #24 : 0.72 seconds\n",
            "[Epoch/Iterations]:[25/0], loss: 7.86082040305759\n",
            "[Epoch/Iterations]:[25/100], loss: 8.065656980939313\n",
            "[Epoch/Iterations]:[25/200], loss: 8.077069392928586\n",
            "[Epoch/Iterations]:[25/300], loss: 7.9131597286153506\n",
            "[Epoch/Iterations]:[25/400], loss: 7.949963825400808\n",
            "=> Elapsed time epoch #25 : 0.76 seconds\n",
            "[Epoch/Iterations]:[26/0], loss: 7.868511835475875\n",
            "[Epoch/Iterations]:[26/100], loss: 7.8899504747783675\n",
            "[Epoch/Iterations]:[26/200], loss: 8.00396010774648\n",
            "[Epoch/Iterations]:[26/300], loss: 8.016995122997608\n",
            "[Epoch/Iterations]:[26/400], loss: 7.988493633397922\n",
            "=> Elapsed time epoch #26 : 0.69 seconds\n",
            "[Epoch/Iterations]:[27/0], loss: 7.907648519374061\n",
            "[Epoch/Iterations]:[27/100], loss: 7.97024919177653\n",
            "[Epoch/Iterations]:[27/200], loss: 7.920351253803327\n",
            "[Epoch/Iterations]:[27/300], loss: 8.05618983540876\n",
            "[Epoch/Iterations]:[27/400], loss: 8.010000207057232\n",
            "=> Elapsed time epoch #27 : 0.76 seconds\n",
            "[Epoch/Iterations]:[28/0], loss: 8.011234014720381\n",
            "[Epoch/Iterations]:[28/100], loss: 7.966271841457732\n",
            "[Epoch/Iterations]:[28/200], loss: 8.007988125288271\n",
            "[Epoch/Iterations]:[28/300], loss: 8.047040473972105\n",
            "[Epoch/Iterations]:[28/400], loss: 7.804786538303702\n",
            "=> Elapsed time epoch #28 : 0.72 seconds\n",
            "[Epoch/Iterations]:[29/0], loss: 8.036481131743708\n",
            "[Epoch/Iterations]:[29/100], loss: 8.08501911267435\n",
            "[Epoch/Iterations]:[29/200], loss: 7.82860209983575\n",
            "[Epoch/Iterations]:[29/300], loss: 7.941142210077079\n",
            "[Epoch/Iterations]:[29/400], loss: 7.882739793394715\n",
            "=> Elapsed time epoch #29 : 0.73 seconds\n",
            "[Epoch/Iterations]:[30/0], loss: 7.963150559886681\n",
            "[Epoch/Iterations]:[30/100], loss: 7.953922269728161\n",
            "[Epoch/Iterations]:[30/200], loss: 7.894697969974216\n",
            "[Epoch/Iterations]:[30/300], loss: 8.021324619312416\n",
            "[Epoch/Iterations]:[30/400], loss: 7.964534423413011\n",
            "=> Elapsed time epoch #30 : 0.73 seconds\n",
            "[Epoch/Iterations]:[31/0], loss: 8.043252731286847\n",
            "[Epoch/Iterations]:[31/100], loss: 7.97072921552389\n",
            "[Epoch/Iterations]:[31/200], loss: 7.870184321162106\n",
            "[Epoch/Iterations]:[31/300], loss: 7.954013632151787\n",
            "[Epoch/Iterations]:[31/400], loss: 7.957657476864113\n",
            "=> Elapsed time epoch #31 : 0.72 seconds\n",
            "[Epoch/Iterations]:[32/0], loss: 7.923291321876904\n",
            "[Epoch/Iterations]:[32/100], loss: 7.972328693422516\n",
            "[Epoch/Iterations]:[32/200], loss: 7.835398189717785\n",
            "[Epoch/Iterations]:[32/300], loss: 7.772386411919825\n",
            "[Epoch/Iterations]:[32/400], loss: 7.858291233367078\n",
            "=> Elapsed time epoch #32 : 0.74 seconds\n",
            "[Epoch/Iterations]:[33/0], loss: 7.824618753584873\n",
            "[Epoch/Iterations]:[33/100], loss: 7.733399582687181\n",
            "[Epoch/Iterations]:[33/200], loss: 7.9651271919251965\n",
            "[Epoch/Iterations]:[33/300], loss: 7.854022673122836\n",
            "[Epoch/Iterations]:[33/400], loss: 7.944615735590594\n",
            "=> Elapsed time epoch #33 : 0.74 seconds\n",
            "[Epoch/Iterations]:[34/0], loss: 7.736177224417125\n",
            "[Epoch/Iterations]:[34/100], loss: 7.913860698720305\n",
            "[Epoch/Iterations]:[34/200], loss: 7.797179075872584\n",
            "[Epoch/Iterations]:[34/300], loss: 7.817373948411467\n",
            "[Epoch/Iterations]:[34/400], loss: 7.8740867854475\n",
            "=> Elapsed time epoch #34 : 0.73 seconds\n",
            "[Epoch/Iterations]:[35/0], loss: 7.927637724369999\n",
            "[Epoch/Iterations]:[35/100], loss: 7.892685987629992\n",
            "[Epoch/Iterations]:[35/200], loss: 7.850650342826963\n",
            "[Epoch/Iterations]:[35/300], loss: 7.872458244011041\n",
            "[Epoch/Iterations]:[35/400], loss: 7.964972180341024\n",
            "=> Elapsed time epoch #35 : 0.72 seconds\n",
            "[Epoch/Iterations]:[36/0], loss: 7.8620163407102215\n",
            "[Epoch/Iterations]:[36/100], loss: 7.807425815191732\n",
            "[Epoch/Iterations]:[36/200], loss: 7.7907103710584975\n",
            "[Epoch/Iterations]:[36/300], loss: 7.675199854768483\n",
            "[Epoch/Iterations]:[36/400], loss: 7.782382785681508\n",
            "=> Elapsed time epoch #36 : 0.79 seconds\n",
            "[Epoch/Iterations]:[37/0], loss: 7.887778984800063\n",
            "[Epoch/Iterations]:[37/100], loss: 7.969138480236372\n",
            "[Epoch/Iterations]:[37/200], loss: 7.822940615013356\n",
            "[Epoch/Iterations]:[37/300], loss: 7.84326068745858\n",
            "[Epoch/Iterations]:[37/400], loss: 7.709204546105458\n",
            "=> Elapsed time epoch #37 : 0.94 seconds\n",
            "[Epoch/Iterations]:[38/0], loss: 7.750669325436668\n",
            "[Epoch/Iterations]:[38/100], loss: 7.783383158989687\n",
            "[Epoch/Iterations]:[38/200], loss: 7.955031834551345\n",
            "[Epoch/Iterations]:[38/300], loss: 7.770280286985939\n",
            "[Epoch/Iterations]:[38/400], loss: 7.7953284592447405\n",
            "=> Elapsed time epoch #38 : 0.99 seconds\n",
            "[Epoch/Iterations]:[39/0], loss: 7.684170273533158\n",
            "[Epoch/Iterations]:[39/100], loss: 7.752691642679994\n",
            "[Epoch/Iterations]:[39/200], loss: 7.813659281316137\n",
            "[Epoch/Iterations]:[39/300], loss: 7.74389641879015\n",
            "[Epoch/Iterations]:[39/400], loss: 7.828261254488071\n",
            "=> Elapsed time epoch #39 : 0.80 seconds\n",
            "[Epoch/Iterations]:[40/0], loss: 7.639459491366676\n",
            "[Epoch/Iterations]:[40/100], loss: 7.859970405949796\n",
            "[Epoch/Iterations]:[40/200], loss: 7.895497871477657\n",
            "[Epoch/Iterations]:[40/300], loss: 7.626453759419212\n",
            "[Epoch/Iterations]:[40/400], loss: 7.840476640444024\n",
            "=> Elapsed time epoch #40 : 0.90 seconds\n",
            "[Epoch/Iterations]:[41/0], loss: 7.731848351426578\n",
            "[Epoch/Iterations]:[41/100], loss: 7.863606119774729\n",
            "[Epoch/Iterations]:[41/200], loss: 7.816350394962147\n",
            "[Epoch/Iterations]:[41/300], loss: 7.754937888222266\n",
            "[Epoch/Iterations]:[41/400], loss: 7.7061948678796\n",
            "=> Elapsed time epoch #41 : 0.78 seconds\n",
            "[Epoch/Iterations]:[42/0], loss: 7.724029493584641\n",
            "[Epoch/Iterations]:[42/100], loss: 7.781737755289434\n",
            "[Epoch/Iterations]:[42/200], loss: 7.758177841418276\n",
            "[Epoch/Iterations]:[42/300], loss: 7.676422454910401\n",
            "[Epoch/Iterations]:[42/400], loss: 7.894514779936295\n",
            "=> Elapsed time epoch #42 : 0.81 seconds\n",
            "[Epoch/Iterations]:[43/0], loss: 7.621360828236186\n",
            "[Epoch/Iterations]:[43/100], loss: 7.814994347023684\n",
            "[Epoch/Iterations]:[43/200], loss: 7.711397088323572\n",
            "[Epoch/Iterations]:[43/300], loss: 7.665227515329812\n",
            "[Epoch/Iterations]:[43/400], loss: 7.744587777959228\n",
            "=> Elapsed time epoch #43 : 0.77 seconds\n",
            "[Epoch/Iterations]:[44/0], loss: 7.696200125769706\n",
            "[Epoch/Iterations]:[44/100], loss: 7.743297591517106\n",
            "[Epoch/Iterations]:[44/200], loss: 7.66874438644978\n",
            "[Epoch/Iterations]:[44/300], loss: 7.6614759989310475\n",
            "[Epoch/Iterations]:[44/400], loss: 7.934986659185334\n",
            "=> Elapsed time epoch #44 : 0.72 seconds\n",
            "[Epoch/Iterations]:[45/0], loss: 7.751629116706232\n",
            "[Epoch/Iterations]:[45/100], loss: 7.69933794708552\n",
            "[Epoch/Iterations]:[45/200], loss: 7.8543278342999185\n",
            "[Epoch/Iterations]:[45/300], loss: 7.671819519445866\n",
            "[Epoch/Iterations]:[45/400], loss: 7.647751285983968\n",
            "=> Elapsed time epoch #45 : 0.74 seconds\n",
            "[Epoch/Iterations]:[46/0], loss: 7.767388397491969\n",
            "[Epoch/Iterations]:[46/100], loss: 7.691415728951025\n",
            "[Epoch/Iterations]:[46/200], loss: 7.75097130467667\n",
            "[Epoch/Iterations]:[46/300], loss: 7.6374863759521165\n",
            "[Epoch/Iterations]:[46/400], loss: 7.704533441453629\n",
            "=> Elapsed time epoch #46 : 0.73 seconds\n",
            "[Epoch/Iterations]:[47/0], loss: 7.636931404315407\n",
            "[Epoch/Iterations]:[47/100], loss: 7.703608048144349\n",
            "[Epoch/Iterations]:[47/200], loss: 7.714785744554902\n",
            "[Epoch/Iterations]:[47/300], loss: 7.701358616182321\n",
            "[Epoch/Iterations]:[47/400], loss: 7.62811566981499\n",
            "=> Elapsed time epoch #47 : 0.82 seconds\n",
            "[Epoch/Iterations]:[48/0], loss: 7.595689194179579\n",
            "[Epoch/Iterations]:[48/100], loss: 7.57744010685728\n",
            "[Epoch/Iterations]:[48/200], loss: 7.703113683145217\n",
            "[Epoch/Iterations]:[48/300], loss: 7.700299058407604\n",
            "[Epoch/Iterations]:[48/400], loss: 7.6784905259106235\n",
            "=> Elapsed time epoch #48 : 0.78 seconds\n",
            "[Epoch/Iterations]:[49/0], loss: 7.70238272200196\n",
            "[Epoch/Iterations]:[49/100], loss: 7.634813284082225\n",
            "[Epoch/Iterations]:[49/200], loss: 7.762814991754323\n",
            "[Epoch/Iterations]:[49/300], loss: 7.633886329055275\n",
            "[Epoch/Iterations]:[49/400], loss: 7.6180581219252925\n",
            "=> Elapsed time epoch #49 : 0.73 seconds\n"
          ]
        }
      ],
      "source": [
        "# Define an interactive ipython figure to display the training loss\n",
        "%matplotlib notebook\n",
        "fig = plt.figure(\"Training loss\")\n",
        "ax = fig.add_subplot(1, 1, 1)\n",
        "plt.ion()\n",
        "fig.show()\n",
        "fig.canvas.draw()\n",
        "\n",
        "# Log the training loss\n",
        "loss_log = []\n",
        "\n",
        "# Zeros initialize the momentum for SGD\n",
        "V_dW1 = np.zeros(W1.shape)\n",
        "V_dW2 = np.zeros(W2.shape)\n",
        "V_dW3 = np.zeros(W3.shape)\n",
        "\n",
        "# Training\n",
        "for i in range(epoch):\n",
        "    start_t = time.time()\n",
        "    \n",
        "    # Random shuffle training data every training epoch\n",
        "    np.random.seed(np.random.randint(num_trains))\n",
        "    indices = np.random.permutation(num_trains)\n",
        "    X_train_shuffled, Y_train_shuffled = X_train[:, indices], Y_train[:, indices]\n",
        "\n",
        "    for j in range(num_batchs):\n",
        "\n",
        "        # Get mini-batch samples for training\n",
        "        start_idx = j * batch_size\n",
        "        end_idx = min(j * batch_size + batch_size, X_train.shape[1] - 1)\n",
        "        X, Y = X_train_shuffled[:, start_idx : end_idx], Y_train_shuffled[:, start_idx : end_idx]\n",
        "        # Size of actual mini-batch, it could be smaller than batch_size\n",
        "        mini_batch = end_idx - start_idx\n",
        "        \n",
        "        # TODO: implement the forward-pass (1.0 point)\n",
        "        Z1 = np.matmul(W1, X)\n",
        "        A1 = sigmoid(Z1)\n",
        "        Z2 = np.matmul(W2, A1)\n",
        "        A2 = sigmoid(Z2)\n",
        "        Z3 = np.matmul(W3, A2)\n",
        "        A3 = softmax(Z3)\n",
        "        \n",
        "\n",
        "        if is_weight_decay: \n",
        "            # TODO: call cross entropy loss with weight decay regularization\n",
        "            # We need to penalize both W1, W2 and W3 here with the lmda coefficient defined above\n",
        "            # (0.5 point)\n",
        "            L = cross_entropy_loss(Y, A3) + lmda * 0.5 * (np.sum(W1*W1) + np.sum(W2*W2) + np.sum(W3*W3))\n",
        "            \n",
        "        else:\n",
        "            # TODO: call cross entropy loss (0.5 point)\n",
        "            L = cross_entropy_loss(Y, A3)\n",
        "            \n",
        "        \n",
        "        # Log the training loss during training\n",
        "        loss_log.append(L)\n",
        "        \n",
        "\n",
        "        # TODO: calculate the derivative of 𝐿 with respect to 𝑍3 using eq. 10 (1.0 point)\n",
        "        dZ3 = A3 - Y\n",
        "        \n",
        "        if is_weight_decay:\n",
        "            # TODO: calculate the derivative of 𝐿 with respect to W3 using eq. 7 with weight decay regularization\n",
        "            # We only need penalize and W3 here with the lmda coefficient defined above\n",
        "            # (0.5 point)\n",
        "            dW3 = (1/batch_size) * (np.matmul(dZ3, np.transpose(A2)) + lmda * W3)\n",
        "            \n",
        "        else:\n",
        "            # TODO: calculate the derivative of 𝐿 with respect to W2 using eq. 7 (0.5 point)\n",
        "            # Hints: consider the mini_batch during the calculation of the gradient\n",
        "            # use np.matmul() and transpose the matrix to fit the dimension\n",
        "            dW3 = (1/batch_size) * np.matmul(dZ3, np.transpose(A2))\n",
        "        \n",
        "        \n",
        "        # TODO: calculate the derivative of 𝐿 with respect to A2 using eq. 12 (1.0 point)\n",
        "        # Hints: use np.matmul() and transpose the matrix to fit the dimension\n",
        "        dA2 = np.matmul(np.transpose(W3), dZ3)\n",
        "        \n",
        "        # TODO: calculate the derivative of 𝐿 with respect to Z2 using eq. 12 and eq. 13 (1.0 point)\n",
        "        # Hints: use element-wise multiplication * \n",
        "        dZ2 = dA2 * (A2 * (1 - A2))\n",
        "        \n",
        "        if is_weight_decay:\n",
        "            # TODO: calculate the derivative of 𝐿 with respect to W2 using eq. 7 with weight decay regularization\n",
        "            # We only need penalize and W1 here with the lmda coefficient defined above\n",
        "            # (0.5 point)\n",
        "            dW2 =(1/batch_size) * (np.matmul(dZ2, np.transpose(A1)) + lmda * W2)\n",
        "            \n",
        "        else:\n",
        "            # TODO: calculate the derivative of 𝐿 with respect to W2 using eq. 8 (0.5 point)\n",
        "            # Hints: similarly, consider the mini_batch during the calculation of the gradient\n",
        "            # use np.matmul() and transpose the matrix to fit the dimension\n",
        "            dW2 = (1/batch_size) * np.matmul(dZ2, np.transpose(A1)) \n",
        "            \n",
        "        # TODO: calculate the derivative of 𝐿 with respect to A1 using eq. 15 (1.0 point)\n",
        "        # Hints: use np.matmul() and transpose the matrix to fit the dimension\n",
        "        dA1 = np.matmul(np.transpose(W2), dZ2)\n",
        "        \n",
        "        # TODO: calculate the derivative of 𝐿 with respect to Z1 using eq. 15 and eq. 16 (1.0 point)\n",
        "        # Hints: use element-wise multiplication * \n",
        "        dZ1 = dA1 * (A1 * (1 - A1))\n",
        "        \n",
        "        if is_weight_decay:\n",
        "            # TODO: calculate the derivative of 𝐿 with respect to W1 using eq. 9 with weight decay regularization\n",
        "            # We only need penalize and W1 here with the lmda coefficient defined above\n",
        "            # (0.5 point)\n",
        "            dW1 = (1/batch_size) * (np.matmul(dZ1, np.transpose(X)) + lmda * W1)\n",
        "            \n",
        "        else:\n",
        "            # TODO: calculate the derivative of 𝐿 with respect to W1 using eq. 9 (0.5 point)\n",
        "            # Hints: similarly, consider the mini_batch during the calculation of the gradient\n",
        "            # use np.matmul() and transpose the matrix to fit the dimension\n",
        "            dW1 = (1/batch_size) * (np.matmul(dZ1, np.transpose(X)))\n",
        "        \n",
        "        # TODO: Update the learning velocity using Eq. 22 (1.0 point)\n",
        "        V_dW1 = beta * V_dW1 + (1 - beta) * dW1\n",
        "        V_dW2 = beta * V_dW2 + (1 - beta) * dW2\n",
        "        V_dW3 = beta * V_dW3 + (1 - beta) * dW3\n",
        "\n",
        "        # TODO: Update the model weights using Eq. 23 (1.0 point)\n",
        "        W1 = W1 - (learning_rate * V_dW1)\n",
        "        W2 = W2 - (learning_rate * V_dW2)\n",
        "        W3 = W3 - (learning_rate * V_dW3)\n",
        "\n",
        "        if (j % 100 == 0):\n",
        "            print(\"[Epoch/Iterations]:[{}/{}], loss: {}\".format(i, j, L))\n",
        "            \n",
        "    ax.clear()\n",
        "    ax.plot(loss_log)\n",
        "    fig.canvas.draw()\n",
        "    print(\"=> Elapsed time epoch #{} : {:.2f} seconds\".format(i, time.time() - start_t))\n"
      ]
    },
    {
      "cell_type": "markdown",
      "metadata": {
        "id": "LnZGoEO66Wkk"
      },
      "source": [
        "### Evaluate the performance of your model (<span style=\"color:green\">0.5 points</span>)"
      ]
    },
    {
      "cell_type": "code",
      "execution_count": 12,
      "metadata": {
        "colab": {
          "base_uri": "https://localhost:8080/"
        },
        "id": "lQwvDA9J6Wkk",
        "outputId": "95c697fb-1ff4-4086-dbf0-37dbe1b9ad78"
      },
      "outputs": [
        {
          "name": "stdout",
          "output_type": "stream",
          "text": [
            "Confusion matrix:\n",
            "[[759   3  17  65   7   2 131   0  16   0]\n",
            " [  5 948   6  27   9   0   5   0   0   0]\n",
            " [ 10   1 696  11 192   1  80   0   9   0]\n",
            " [ 31  15  11 840  59   1  38   0   5   0]\n",
            " [  1   1  94  30 810   0  60   0   4   0]\n",
            " [  0   0   1   1   0 920   1  35  10  32]\n",
            " [127   3 124  48 136   0 539   0  23   0]\n",
            " [  0   0   0   0   0  41   0 885   0  74]\n",
            " [  4   0  15   6   6  10  34   7 917   1]\n",
            " [  0   0   0   0   0  25   0  31   2 942]]\n",
            "Testing accuracy: 0.8256\n"
          ]
        }
      ],
      "source": [
        "# TODO: implement the forward-pass (0.5 point)\n",
        "# Hints: note that this is similar but not exactly the same as the forward pass during training\n",
        "Z1 = np.matmul(W1, X_test)\n",
        "A1 = sigmoid(Z1)\n",
        "Z2 = np.matmul(W2, A1)\n",
        "A2 = sigmoid(Z2)\n",
        "Z3 = np.matmul(W3, A2)\n",
        "A3 = softmax(Z3)\n",
        "\n",
        "# Evaluate the performance of your NN\n",
        "predictions = np.argmax(A3, axis=0)\n",
        "labels = np.argmax(Y_test, axis=0)\n",
        "print(\"Confusion matrix:\\n{}\".format(confusion_matrix(labels, predictions)))\n",
        "print(\"Testing accuracy: {}\".format(accuracy_score(labels, predictions)))"
      ]
    },
    {
      "cell_type": "markdown",
      "metadata": {
        "id": "CPrvXDZ-6Wkl"
      },
      "source": [
        "## Part 4. Regularization and NN simple tunning (<span style=\"color:green\">2.5 points</span>)\n",
        "\n",
        "1. Applying weight decay (<span style=\"color:green\">1.5 point</span> )\n",
        "  * Using what you learnt from assignment 1 to add the code at neccesary parts in **Training your network** above.\n",
        "  * There are 3 spots, (<span style=\"color:green\">0.5 point</span>) each spot. Insert the answers in above section.\n",
        "2. Change the number of neurons in the hidden layer and report the performance (<span style=\"color:green\">1 point</span>)"
      ]
    },
    {
      "cell_type": "markdown",
      "metadata": {
        "id": "ncXMyawa6Wkl"
      },
      "source": [
        "**Answer of question 2:**"
      ]
    },
    {
      "cell_type": "markdown",
      "metadata": {
        "id": "zsfwDHz56Wkl"
      },
      "source": [
        "Current Testing Accuracy = 0.7221. Now we change the networks with these following network nodes:\n",
        "* Layer 1: 21 , Layer 2: 9 (multiple 3) - Testing accuracy: 0.8271.\n",
        "\n",
        "I can conclude that with extending the number of neurons in each layer we could reach a better accuracy. However, it is not necessarily mean that \"The more nodes, the better\"."
      ]
    }
  ],
  "metadata": {
    "colab": {
      "provenance": []
    },
    "kernelspec": {
      "display_name": "Python 3.8.10 64-bit",
      "language": "python",
      "name": "python3"
    },
    "language_info": {
      "codemirror_mode": {
        "name": "ipython",
        "version": 3
      },
      "file_extension": ".py",
      "mimetype": "text/x-python",
      "name": "python",
      "nbconvert_exporter": "python",
      "pygments_lexer": "ipython3",
      "version": "3.8.10"
    },
    "vscode": {
      "interpreter": {
        "hash": "916dbcbb3f70747c44a77c7bcd40155683ae19c65e1c03b4aa3499c5328201f1"
      }
    }
  },
  "nbformat": 4,
  "nbformat_minor": 0
}
